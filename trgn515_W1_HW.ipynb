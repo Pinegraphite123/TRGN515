{
  "nbformat": 4,
  "nbformat_minor": 0,
  "metadata": {
    "colab": {
      "provenance": [],
      "authorship_tag": "ABX9TyOS1peUT7T27D//b7IB38aS",
      "include_colab_link": true
    },
    "kernelspec": {
      "name": "python3",
      "display_name": "Python 3"
    },
    "language_info": {
      "name": "python"
    }
  },
  "cells": [
    {
      "cell_type": "markdown",
      "metadata": {
        "id": "view-in-github",
        "colab_type": "text"
      },
      "source": [
        "<a href=\"https://colab.research.google.com/github/Pinegraphite123/TRGN515/blob/main/trgn515_W1_HW.ipynb\" target=\"_parent\"><img src=\"https://colab.research.google.com/assets/colab-badge.svg\" alt=\"Open In Colab\"/></a>"
      ]
    },
    {
      "cell_type": "markdown",
      "source": [
        "upload to github:\n",
        "\n",
        "create a ssh key in trgn server\n",
        "\n",
        "copy the key into github account\n",
        "\n",
        "git init\n",
        "\n",
        "git add file_name # choose the file or directory to add to git\n",
        "\n",
        "git commit -m \"message\" # commit changes in git with a message\n",
        "\n",
        "git remote add origin link_to_repo  # set destination\n",
        "\n",
        "git remote -v\n",
        "\n",
        "git push -u\n",
        "\n",
        "git branch -M origin # change the name from master to origin, to match the branch name in repo\n",
        "\n",
        "git push -u origin main # add the file in git to the repo branch\n"
      ],
      "metadata": {
        "id": "d9VZ5dRyDC74"
      }
    },
    {
      "cell_type": "code",
      "source": [],
      "metadata": {
        "id": "cKZWUa1uDAjK"
      },
      "execution_count": null,
      "outputs": []
    },
    {
      "cell_type": "code",
      "execution_count": 1,
      "metadata": {
        "colab": {
          "base_uri": "https://localhost:8080/"
        },
        "id": "ZGAGsUi1K7xd",
        "outputId": "be54357a-997a-434c-a120-dfcf4902478f"
      },
      "outputs": [
        {
          "output_type": "stream",
          "name": "stdout",
          "text": [
            "one\n",
            "['two', 'three']\n"
          ]
        }
      ],
      "source": [
        "# W1-HW1\n",
        "\n",
        "W1_list = [\"one\", \"two\", \"three\"]\n",
        "W1_list_remove = list(W1_list)\n",
        "print(W1_list.pop(0))\n",
        "W1_list_remove.remove(\"one\")\n",
        "print(W1_list_remove)"
      ]
    },
    {
      "cell_type": "code",
      "source": [
        "# HW2\n",
        "\n",
        "main_list = [1, 2, 3]\n",
        "main_list_copy = main_list.copy()\n",
        "print(main_list_copy)\n"
      ],
      "metadata": {
        "colab": {
          "base_uri": "https://localhost:8080/"
        },
        "id": "X4KszuCtLA3D",
        "outputId": "3fbeeb98-f14a-4700-eefb-5aa400b228c0"
      },
      "execution_count": 2,
      "outputs": [
        {
          "output_type": "stream",
          "name": "stdout",
          "text": [
            "[1, 2, 3]\n"
          ]
        }
      ]
    },
    {
      "cell_type": "code",
      "source": [
        "# HW3\n",
        "\n",
        "dictt = {\"one\": 3, \"two\": 2, \"three\": 1}\n",
        "dictc = {\"one\":\"blue\", \"two\":\"red\", \"three\":\"green\"}\n",
        "\n",
        "\n",
        "# clear method\n",
        "dict_copy = dictt.copy()\n",
        "print(\"Clear method: {}\".format(dict_copy.clear()))\n",
        "\n",
        "# fromkeyk method\n",
        "# print(dict.fromkeys(1,2)) # this will give TypeError'int' object is not iterable. Because fromkey accept (x,y) in which y is passed onto x as value, x should be an iterable which is string, tuple, dict, or list\n",
        "x = [\"one\", \"two\", \"three\"]\n",
        "print(\"fromkeys method: {}\".format(dict.fromkeys(x, 1)))\n",
        "\n",
        "# get method\n",
        "print(\"get method: {}\".format(dictc.get(\"green\"))) # doesnt return error, returns none. The argument, key should be found in the corresponding dictionary\n",
        "\n",
        "# items method\n",
        "print(\"items method: {}\".format(dictt.items()))\n",
        "\n",
        "# update method\n",
        "#dictt.update({four: 4}) # returns NameError, needs to remember to \"\". It means four as an iterable without \"\"\n",
        "dictt.update({\"four\": 4})\n",
        "print(\"update method: {}\".format(dictt))\n",
        "\n",
        "\n",
        "\n",
        "\n"
      ],
      "metadata": {
        "colab": {
          "base_uri": "https://localhost:8080/"
        },
        "id": "esYTOrZCLAw4",
        "outputId": "09d6b177-5e08-456e-f452-55da01ca001c"
      },
      "execution_count": 27,
      "outputs": [
        {
          "output_type": "stream",
          "name": "stdout",
          "text": [
            "Clear method: None\n",
            "fromkeys method: {'one': 1, 'two': 1, 'three': 1}\n",
            "get method: None\n",
            "items method: dict_items([('one', 3), ('two', 2), ('three', 1)])\n",
            "update method: {'one': 3, 'two': 2, 'three': 1, 'four': 4}\n"
          ]
        }
      ]
    },
    {
      "cell_type": "code",
      "source": [
        "# HW4\n",
        "\n",
        "recipe_dict = {}\n",
        "recipe_dict['ratatouille '] = ['eggplant', 'tomato', 'zucchini', 'onion', 'olive oil', 'garlic']\n",
        "recipe_dict['homemade pasta'] = ['semolina flour', 'olive oil', 'sea salt']\n",
        "for key in recipe_dict.keys():\n",
        "    print(key)\n",
        "for value in recipe_dict.values():\n",
        "    print(value)"
      ],
      "metadata": {
        "colab": {
          "base_uri": "https://localhost:8080/"
        },
        "id": "3O9j53juoyNF",
        "outputId": "defd5fbc-6c5f-4813-e3b0-5a9e784da382"
      },
      "execution_count": 29,
      "outputs": [
        {
          "output_type": "stream",
          "name": "stdout",
          "text": [
            "ratatouille \n",
            "homemade pasta\n",
            "['eggplant', 'tomato', 'zucchini', 'onion', 'olive oil', 'garlic']\n",
            "['semolina flour', 'olive oil', 'sea salt']\n"
          ]
        }
      ]
    },
    {
      "cell_type": "code",
      "source": [
        "# HW5\n",
        "\n",
        "my_numbers = [1,3,5,7,9,12,19,21]\n",
        "for i in my_numbers:\n",
        "  if i % 2 != 0:\n",
        "    print(i**2)\n"
      ],
      "metadata": {
        "colab": {
          "base_uri": "https://localhost:8080/"
        },
        "id": "OAP2gl2Q9Xau",
        "outputId": "811db3c2-f241-4bc4-fe5c-fa617bc2b49c"
      },
      "execution_count": 38,
      "outputs": [
        {
          "output_type": "stream",
          "name": "stdout",
          "text": [
            "1\n",
            "9\n",
            "25\n",
            "49\n",
            "81\n",
            "361\n",
            "441\n"
          ]
        }
      ]
    }
  ]
}