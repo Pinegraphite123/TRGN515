{
  "cells": [
    {
      "cell_type": "markdown",
      "metadata": {
        "id": "view-in-github",
        "colab_type": "text"
      },
      "source": [
        "<a href=\"https://colab.research.google.com/github/Pinegraphite123/TRGN515/blob/main/W5_HWproblems.ipynb\" target=\"_parent\"><img src=\"https://colab.research.google.com/assets/colab-badge.svg\" alt=\"Open In Colab\"/></a>"
      ]
    },
    {
      "cell_type": "markdown",
      "metadata": {
        "id": "d7ca67d9-c65f-4533-b606-84764947f77e"
      },
      "source": [
        "## Using the GFF3 file that is well annotated, do:\n"
      ],
      "id": "d7ca67d9-c65f-4533-b606-84764947f77e"
    },
    {
      "cell_type": "markdown",
      "metadata": {
        "id": "22e0505a-9bc1-469a-ba15-caeca81d1aca"
      },
      "source": [
        "#### W5-H17: Visualize the data as much as you can. How many genes/CDS/exon are listed for ENSEMBL and other datasets?\n"
      ],
      "id": "22e0505a-9bc1-469a-ba15-caeca81d1aca"
    },
    {
      "cell_type": "code",
      "execution_count": null,
      "metadata": {
        "id": "6YfOkJ0Nxm-6",
        "colab": {
          "base_uri": "https://localhost:8080/"
        },
        "outputId": "85b6af81-bfcf-4b0a-dad4-81c0af19021c"
      },
      "outputs": [
        {
          "output_type": "stream",
          "name": "stdout",
          "text": [
            "--2024-02-17 18:06:50--  ftp://ftp.ensembl.org/pub/release-85/gff3/homo_sapiens/Homo_sapiens.GRCh38.85.gff3.gz\n",
            "           => ‘Homo_sapiens.GRCh38.85.gff3.gz’\n",
            "Resolving ftp.ensembl.org (ftp.ensembl.org)... 193.62.193.169\n",
            "Connecting to ftp.ensembl.org (ftp.ensembl.org)|193.62.193.169|:21... connected.\n",
            "Logging in as anonymous ... Logged in!\n",
            "==> SYST ... done.    ==> PWD ... done.\n",
            "==> TYPE I ... done.  ==> CWD (1) /pub/release-85/gff3/homo_sapiens ... done.\n",
            "==> SIZE Homo_sapiens.GRCh38.85.gff3.gz ... 38469475\n",
            "==> PASV ... done.    ==> RETR Homo_sapiens.GRCh38.85.gff3.gz ... done.\n",
            "Length: 38469475 (37M) (unauthoritative)\n",
            "\n",
            "Homo_sapiens.GRCh38 100%[===================>]  36.69M  5.31MB/s    in 11s     \n",
            "\n",
            "2024-02-17 18:07:04 (3.25 MB/s) - ‘Homo_sapiens.GRCh38.85.gff3.gz’ saved [38469475]\n",
            "\n",
            "--2024-02-17 18:07:04--  http://ftp.ensembl.org/pub/release-85/gff3/homo_sapiens/README\n",
            "Resolving ftp.ensembl.org (ftp.ensembl.org)... 193.62.193.169\n",
            "Connecting to ftp.ensembl.org (ftp.ensembl.org)|193.62.193.169|:80... connected.\n",
            "HTTP request sent, awaiting response... 200 OK\n",
            "Length: 11994 (12K)\n",
            "Saving to: ‘README’\n",
            "\n",
            "README              100%[===================>]  11.71K  --.-KB/s    in 0s      \n",
            "\n",
            "2024-02-17 18:07:05 (155 MB/s) - ‘README’ saved [11994/11994]\n",
            "\n"
          ]
        }
      ],
      "source": [
        "!wget ftp://ftp.ensembl.org/pub/release-85/gff3/homo_sapiens/Homo_sapiens.GRCh38.85.gff3.gz\n",
        "!wget ftp.ensembl.org/pub/release-85/gff3/homo_sapiens/README"
      ],
      "id": "6YfOkJ0Nxm-6"
    },
    {
      "cell_type": "code",
      "execution_count": null,
      "metadata": {
        "colab": {
          "base_uri": "https://localhost:8080/"
        },
        "id": "1IzDoRqYxzS9",
        "outputId": "56ff6f6b-0c84-4ece-c328-72ae78ef7c19"
      },
      "outputs": [
        {
          "output_type": "stream",
          "name": "stdout",
          "text": [
            "gzip: ../datasets/Homo_sapiens.GRCh38.85.gff3.gz: No such file or directory\n"
          ]
        }
      ],
      "source": [
        "!zcat ../datasets/Homo_sapiens.GRCh38.85.gff3.gz | head -n 250"
      ],
      "id": "1IzDoRqYxzS9"
    },
    {
      "cell_type": "code",
      "execution_count": null,
      "metadata": {
        "id": "SqQpbFCJwuNF"
      },
      "outputs": [],
      "source": [
        "import pandas as pd\n",
        "pd.__version__ # good idea to report it when comparing code from different timestamps\n",
        "col_names = ['seqid', 'source', 'type', 'start', 'end', 'score', 'strand', 'phase', 'attributes'] #specified in README file\n",
        "df = pd.read_csv('../content/Homo_sapiens.GRCh38.85.gff3.gz', compression='gzip',\n",
        "                         sep='\\t', comment='#', low_memory=False,\n",
        "                         header=None, names=col_names)"
      ],
      "id": "SqQpbFCJwuNF"
    },
    {
      "cell_type": "code",
      "source": [
        "dff = df[df['type'].isin(['gene', 'exon', 'CDS'])]"
      ],
      "metadata": {
        "id": "tOXIhgMP4ls_"
      },
      "id": "tOXIhgMP4ls_",
      "execution_count": null,
      "outputs": []
    },
    {
      "cell_type": "code",
      "source": [
        "import seaborn as sns\n",
        "import matplotlib.pyplot as plt\n",
        "ax = sns.countplot(x='type', data=dff, hue='source')\n",
        "ax.set_yscale('log')\n",
        "ax.set_ylabel('log(count)')\n",
        "plt.show()"
      ],
      "metadata": {
        "colab": {
          "base_uri": "https://localhost:8080/",
          "height": 449
        },
        "id": "wWKKIh_G4VQt",
        "outputId": "f5b206ee-cbac-48b3-aca6-736765938aff"
      },
      "id": "wWKKIh_G4VQt",
      "execution_count": null,
      "outputs": [
        {
          "output_type": "display_data",
          "data": {
            "text/plain": [
              "<Figure size 640x480 with 1 Axes>"
            ],
            "image/png": "[encoded data removed]"
          },
          "metadata": {}
        }
      ]
    },
    {
      "cell_type": "markdown",
      "metadata": {
        "id": "2f7635e1-d50a-4e43-a185-e8b9481bef2f"
      },
      "source": [
        "#### W5-H18: Plot a histogram of length information for a) entire genome, 2) for each source, i.e., ENSEMBL, Havana, etc. separately (can use subplot)"
      ],
      "id": "2f7635e1-d50a-4e43-a185-e8b9481bef2f"
    },
    {
      "cell_type": "code",
      "source": [
        "import seaborn as sns\n",
        "df[\"length\"] = df[\"end\"] - df[\"start\"] + 1\n",
        "df"
      ],
      "metadata": {
        "colab": {
          "base_uri": "https://localhost:8080/",
          "height": 424
        },
        "id": "Dv5B3Ogif_bJ",
        "outputId": "cd9775e6-268c-418e-9ba6-2812e6198252"
      },
      "id": "Dv5B3Ogif_bJ",
      "execution_count": null,
      "outputs": [
        {
          "output_type": "execute_result",
          "data": {
            "text/plain": [
              "        seqid  source                  type     start        end    score  \\\n",
              "0           1  GRCh38            chromosome         1  248956422        .   \n",
              "1           1       .     biological_region     10469      11240  1.3e+03   \n",
              "2           1       .     biological_region     10650      10657    0.999   \n",
              "3           1       .     biological_region     10655      10657    0.999   \n",
              "4           1       .     biological_region     10678      10687    0.999   \n",
              "...       ...     ...                   ...       ...        ...      ...   \n",
              "2601844     Y       .     biological_region  26626966   26627137    0.994   \n",
              "2601845     Y       .     biological_region  26627457   26628186    0.997   \n",
              "2601846     Y  havana                  gene  56855244   56855488        .   \n",
              "2601847     Y  havana  processed_pseudogene  56855244   56855488        .   \n",
              "2601848     Y  havana                  exon  56855244   56855488        .   \n",
              "\n",
              "        strand phase                                         attributes  \\\n",
              "0            .     .  ID=chromosome:1;Alias=CM000663.2,chr1,NC_00000...   \n",
              "1            .     .           external_name=oe %3D 0.79;logic_name=cpg   \n",
              "2            +     .                                 logic_name=eponine   \n",
              "3            -     .                                 logic_name=eponine   \n",
              "4            +     .                                 logic_name=eponine   \n",
              "...        ...   ...                                                ...   \n",
              "2601844      -     .        external_name=rank %3D 1;logic_name=firstef   \n",
              "2601845      +     .        external_name=rank %3D 1;logic_name=firstef   \n",
              "2601846      +     .  ID=gene:ENSG00000235857;Name=CTBP2P1;biotype=p...   \n",
              "2601847      +     .  ID=transcript:ENST00000431853;Parent=gene:ENSG...   \n",
              "2601848      +     .  Parent=transcript:ENST00000431853;Name=ENSE000...   \n",
              "\n",
              "            length  \n",
              "0        248956422  \n",
              "1              772  \n",
              "2                8  \n",
              "3                3  \n",
              "4               10  \n",
              "...            ...  \n",
              "2601844        172  \n",
              "2601845        730  \n",
              "2601846        245  \n",
              "2601847        245  \n",
              "2601848        245  \n",
              "\n",
              "[2601849 rows x 10 columns]"
            ],
            "text/html": [
              "\n",
              "  <div id=\"df-d777bcb7-4e8d-4cdc-ae68-267e20a95d60\" class=\"colab-df-container\">\n",
              "    <div>\n",
              "<style scoped>\n",
              "    .dataframe tbody tr th:only-of-type {\n",
              "        vertical-align: middle;\n",
              "    }\n",
              "\n",
              "    .dataframe tbody tr th {\n",
              "        vertical-align: top;\n",
              "    }\n",
              "\n",
              "    .dataframe thead th {\n",
              "        text-align: right;\n",
              "    }\n",
              "</style>\n",
              "<table border=\"1\" class=\"dataframe\">\n",
              "  <thead>\n",
              "    <tr style=\"text-align: right;\">\n",
              "      <th></th>\n",
              "      <th>seqid</th>\n",
              "      <th>source</th>\n",
              "      <th>type</th>\n",
              "      <th>start</th>\n",
              "      <th>end</th>\n",
              "      <th>score</th>\n",
              "      <th>strand</th>\n",
              "      <th>phase</th>\n",
              "      <th>attributes</th>\n",
              "      <th>length</th>\n",
              "    </tr>\n",
              "  </thead>\n",
              "  <tbody>\n",
              "    <tr>\n",
              "      <th>0</th>\n",
              "      <td>1</td>\n",
              "      <td>GRCh38</td>\n",
              "      <td>chromosome</td>\n",
              "      <td>1</td>\n",
              "      <td>248956422</td>\n",
              "      <td>.</td>\n",
              "      <td>.</td>\n",
              "      <td>.</td>\n",
              "      <td>ID=chromosome:1;Alias=CM000663.2,chr1,NC_00000...</td>\n",
              "      <td>248956422</td>\n",
              "    </tr>\n",
              "    <tr>\n",
              "      <th>1</th>\n",
              "      <td>1</td>\n",
              "      <td>.</td>\n",
              "      <td>biological_region</td>\n",
              "      <td>10469</td>\n",
              "      <td>11240</td>\n",
              "      <td>1.3e+03</td>\n",
              "      <td>.</td>\n",
              "      <td>.</td>\n",
              "      <td>external_name=oe %3D 0.79;logic_name=cpg</td>\n",
              "      <td>772</td>\n",
              "    </tr>\n",
              "    <tr>\n",
              "      <th>2</th>\n",
              "      <td>1</td>\n",
              "      <td>.</td>\n",
              "      <td>biological_region</td>\n",
              "      <td>10650</td>\n",
              "      <td>10657</td>\n",
              "      <td>0.999</td>\n",
              "      <td>+</td>\n",
              "      <td>.</td>\n",
              "      <td>logic_name=eponine</td>\n",
              "      <td>8</td>\n",
              "    </tr>\n",
              "    <tr>\n",
              "      <th>3</th>\n",
              "      <td>1</td>\n",
              "      <td>.</td>\n",
              "      <td>biological_region</td>\n",
              "      <td>10655</td>\n",
              "      <td>10657</td>\n",
              "      <td>0.999</td>\n",
              "      <td>-</td>\n",
              "      <td>.</td>\n",
              "      <td>logic_name=eponine</td>\n",
              "      <td>3</td>\n",
              "    </tr>\n",
              "    <tr>\n",
              "      <th>4</th>\n",
              "      <td>1</td>\n",
              "      <td>.</td>\n",
              "      <td>biological_region</td>\n",
              "      <td>10678</td>\n",
              "      <td>10687</td>\n",
              "      <td>0.999</td>\n",
              "      <td>+</td>\n",
              "      <td>.</td>\n",
              "      <td>logic_name=eponine</td>\n",
              "      <td>10</td>\n",
              "    </tr>\n",
              "    <tr>\n",
              "      <th>...</th>\n",
              "      <td>...</td>\n",
              "      <td>...</td>\n",
              "      <td>...</td>\n",
              "      <td>...</td>\n",
              "      <td>...</td>\n",
              "      <td>...</td>\n",
              "      <td>...</td>\n",
              "      <td>...</td>\n",
              "      <td>...</td>\n",
              "      <td>...</td>\n",
              "    </tr>\n",
              "    <tr>\n",
              "      <th>2601844</th>\n",
              "      <td>Y</td>\n",
              "      <td>.</td>\n",
              "      <td>biological_region</td>\n",
              "      <td>26626966</td>\n",
              "      <td>26627137</td>\n",
              "      <td>0.994</td>\n",
              "      <td>-</td>\n",
              "      <td>.</td>\n",
              "      <td>external_name=rank %3D 1;logic_name=firstef</td>\n",
              "      <td>172</td>\n",
              "    </tr>\n",
              "    <tr>\n",
              "      <th>2601845</th>\n",
              "      <td>Y</td>\n",
              "      <td>.</td>\n",
              "      <td>biological_region</td>\n",
              "      <td>26627457</td>\n",
              "      <td>26628186</td>\n",
              "      <td>0.997</td>\n",
              "      <td>+</td>\n",
              "      <td>.</td>\n",
              "      <td>external_name=rank %3D 1;logic_name=firstef</td>\n",
              "      <td>730</td>\n",
              "    </tr>\n",
              "    <tr>\n",
              "      <th>2601846</th>\n",
              "      <td>Y</td>\n",
              "      <td>havana</td>\n",
              "      <td>gene</td>\n",
              "      <td>56855244</td>\n",
              "      <td>56855488</td>\n",
              "      <td>.</td>\n",
              "      <td>+</td>\n",
              "      <td>.</td>\n",
              "      <td>ID=gene:ENSG00000235857;Name=CTBP2P1;biotype=p...</td>\n",
              "      <td>245</td>\n",
              "    </tr>\n",
              "    <tr>\n",
              "      <th>2601847</th>\n",
              "      <td>Y</td>\n",
              "      <td>havana</td>\n",
              "      <td>processed_pseudogene</td>\n",
              "      <td>56855244</td>\n",
              "      <td>56855488</td>\n",
              "      <td>.</td>\n",
              "      <td>+</td>\n",
              "      <td>.</td>\n",
              "      <td>ID=transcript:ENST00000431853;Parent=gene:ENSG...</td>\n",
              "      <td>245</td>\n",
              "    </tr>\n",
              "    <tr>\n",
              "      <th>2601848</th>\n",
              "      <td>Y</td>\n",
              "      <td>havana</td>\n",
              "      <td>exon</td>\n",
              "      <td>56855244</td>\n",
              "      <td>56855488</td>\n",
              "      <td>.</td>\n",
              "      <td>+</td>\n",
              "      <td>.</td>\n",
              "      <td>Parent=transcript:ENST00000431853;Name=ENSE000...</td>\n",
              "      <td>245</td>\n",
              "    </tr>\n",
              "  </tbody>\n",
              "</table>\n",
              "<p>2601849 rows × 10 columns</p>\n",
              "</div>\n",
              "    <div class=\"colab-df-buttons\">\n",
              "\n",
              "  <div class=\"colab-df-container\">\n",
              "    <button class=\"colab-df-convert\" onclick=\"convertToInteractive('df-d777bcb7-4e8d-4cdc-ae68-267e20a95d60')\"\n",
              "            title=\"Convert this dataframe to an interactive table.\"\n",
              "            style=\"display:none;\">\n",
              "\n",
              "  <svg xmlns=\"http://www.w3.org/2000/svg\" height=\"24px\" viewBox=\"0 -960 960 960\">\n",
              "    <path d=\"M120-120v-720h720v720H120Zm60-500h600v-160H180v160Zm220 220h160v-160H400v160Zm0 220h160v-160H400v160ZM180-400h160v-160H180v160Zm440 0h160v-160H620v160ZM180-180h160v-160H180v160Zm440 0h160v-160H620v160Z\"/>\n",
              "  </svg>\n",
              "    </button>\n",
              "\n",
              "  <style>\n",
              "    .colab-df-container {\n",
              "      display:flex;\n",
              "      gap: 12px;\n",
              "    }\n",
              "\n",
              "    .colab-df-convert {\n",
              "      background-color: #E8F0FE;\n",
              "      border: none;\n",
              "      border-radius: 50%;\n",
              "      cursor: pointer;\n",
              "      display: none;\n",
              "      fill: #1967D2;\n",
              "      height: 32px;\n",
              "      padding: 0 0 0 0;\n",
              "      width: 32px;\n",
              "    }\n",
              "\n",
              "    .colab-df-convert:hover {\n",
              "      background-color: #E2EBFA;\n",
              "      box-shadow: 0px 1px 2px rgba(60, 64, 67, 0.3), 0px 1px 3px 1px rgba(60, 64, 67, 0.15);\n",
              "      fill: #174EA6;\n",
              "    }\n",
              "\n",
              "    .colab-df-buttons div {\n",
              "      margin-bottom: 4px;\n",
              "    }\n",
              "\n",
              "    [theme=dark] .colab-df-convert {\n",
              "      background-color: #3B4455;\n",
              "      fill: #D2E3FC;\n",
              "    }\n",
              "\n",
              "    [theme=dark] .colab-df-convert:hover {\n",
              "      background-color: #434B5C;\n",
              "      box-shadow: 0px 1px 3px 1px rgba(0, 0, 0, 0.15);\n",
              "      filter: drop-shadow(0px 1px 2px rgba(0, 0, 0, 0.3));\n",
              "      fill: #FFFFFF;\n",
              "    }\n",
              "  </style>\n",
              "\n",
              "    <script>\n",
              "      const buttonEl =\n",
              "        document.querySelector('#df-d777bcb7-4e8d-4cdc-ae68-267e20a95d60 button.colab-df-convert');\n",
              "      buttonEl.style.display =\n",
              "        google.colab.kernel.accessAllowed ? 'block' : 'none';\n",
              "\n",
              "      async function convertToInteractive(key) {\n",
              "        const element = document.querySelector('#df-d777bcb7-4e8d-4cdc-ae68-267e20a95d60');\n",
              "        const dataTable =\n",
              "          await google.colab.kernel.invokeFunction('convertToInteractive',\n",
              "                                                    [key], {});\n",
              "        if (!dataTable) return;\n",
              "\n",
              "        const docLinkHtml = 'Like what you see? Visit the ' +\n",
              "          '<a target=\"_blank\" href=https://colab.research.google.com/notebooks/data_table.ipynb>data table notebook</a>'\n",
              "          + ' to learn more about interactive tables.';\n",
              "        element.innerHTML = '';\n",
              "        dataTable['output_type'] = 'display_data';\n",
              "        await google.colab.output.renderOutput(dataTable, element);\n",
              "        const docLink = document.createElement('div');\n",
              "        docLink.innerHTML = docLinkHtml;\n",
              "        element.appendChild(docLink);\n",
              "      }\n",
              "    </script>\n",
              "  </div>\n",
              "\n",
              "\n",
              "<div id=\"df-6a9841f0-42d2-4a3e-a2fe-5b05c8e2956c\">\n",
              "  <button class=\"colab-df-quickchart\" onclick=\"quickchart('df-6a9841f0-42d2-4a3e-a2fe-5b05c8e2956c')\"\n",
              "            title=\"Suggest charts\"\n",
              "            style=\"display:none;\">\n",
              "\n",
              "<svg xmlns=\"http://www.w3.org/2000/svg\" height=\"24px\"viewBox=\"0 0 24 24\"\n",
              "     width=\"24px\">\n",
              "    <g>\n",
              "        <path d=\"M19 3H5c-1.1 0-2 .9-2 2v14c0 1.1.9 2 2 2h14c1.1 0 2-.9 2-2V5c0-1.1-.9-2-2-2zM9 17H7v-7h2v7zm4 0h-2V7h2v10zm4 0h-2v-4h2v4z\"/>\n",
              "    </g>\n",
              "</svg>\n",
              "  </button>\n",
              "\n",
              "<style>\n",
              "  .colab-df-quickchart {\n",
              "      --bg-color: #E8F0FE;\n",
              "      --fill-color: #1967D2;\n",
              "      --hover-bg-color: #E2EBFA;\n",
              "      --hover-fill-color: #174EA6;\n",
              "      --disabled-fill-color: #AAA;\n",
              "      --disabled-bg-color: #DDD;\n",
              "  }\n",
              "\n",
              "  [theme=dark] .colab-df-quickchart {\n",
              "      --bg-color: #3B4455;\n",
              "      --fill-color: #D2E3FC;\n",
              "      --hover-bg-color: #434B5C;\n",
              "      --hover-fill-color: #FFFFFF;\n",
              "      --disabled-bg-color: #3B4455;\n",
              "      --disabled-fill-color: #666;\n",
              "  }\n",
              "\n",
              "  .colab-df-quickchart {\n",
              "    background-color: var(--bg-color);\n",
              "    border: none;\n",
              "    border-radius: 50%;\n",
              "    cursor: pointer;\n",
              "    display: none;\n",
              "    fill: var(--fill-color);\n",
              "    height: 32px;\n",
              "    padding: 0;\n",
              "    width: 32px;\n",
              "  }\n",
              "\n",
              "  .colab-df-quickchart:hover {\n",
              "    background-color: var(--hover-bg-color);\n",
              "    box-shadow: 0 1px 2px rgba(60, 64, 67, 0.3), 0 1px 3px 1px rgba(60, 64, 67, 0.15);\n",
              "    fill: var(--button-hover-fill-color);\n",
              "  }\n",
              "\n",
              "  .colab-df-quickchart-complete:disabled,\n",
              "  .colab-df-quickchart-complete:disabled:hover {\n",
              "    background-color: var(--disabled-bg-color);\n",
              "    fill: var(--disabled-fill-color);\n",
              "    box-shadow: none;\n",
              "  }\n",
              "\n",
              "  .colab-df-spinner {\n",
              "    border: 2px solid var(--fill-color);\n",
              "    border-color: transparent;\n",
              "    border-bottom-color: var(--fill-color);\n",
              "    animation:\n",
              "      spin 1s steps(1) infinite;\n",
              "  }\n",
              "\n",
              "  @keyframes spin {\n",
              "    0% {\n",
              "      border-color: transparent;\n",
              "      border-bottom-color: var(--fill-color);\n",
              "      border-left-color: var(--fill-color);\n",
              "    }\n",
              "    20% {\n",
              "      border-color: transparent;\n",
              "      border-left-color: var(--fill-color);\n",
              "      border-top-color: var(--fill-color);\n",
              "    }\n",
              "    30% {\n",
              "      border-color: transparent;\n",
              "      border-left-color: var(--fill-color);\n",
              "      border-top-color: var(--fill-color);\n",
              "      border-right-color: var(--fill-color);\n",
              "    }\n",
              "    40% {\n",
              "      border-color: transparent;\n",
              "      border-right-color: var(--fill-color);\n",
              "      border-top-color: var(--fill-color);\n",
              "    }\n",
              "    60% {\n",
              "      border-color: transparent;\n",
              "      border-right-color: var(--fill-color);\n",
              "    }\n",
              "    80% {\n",
              "      border-color: transparent;\n",
              "      border-right-color: var(--fill-color);\n",
              "      border-bottom-color: var(--fill-color);\n",
              "    }\n",
              "    90% {\n",
              "      border-color: transparent;\n",
              "      border-bottom-color: var(--fill-color);\n",
              "    }\n",
              "  }\n",
              "</style>\n",
              "\n",
              "  <script>\n",
              "    async function quickchart(key) {\n",
              "      const quickchartButtonEl =\n",
              "        document.querySelector('#' + key + ' button');\n",
              "      quickchartButtonEl.disabled = true;  // To prevent multiple clicks.\n",
              "      quickchartButtonEl.classList.add('colab-df-spinner');\n",
              "      try {\n",
              "        const charts = await google.colab.kernel.invokeFunction(\n",
              "            'suggestCharts', [key], {});\n",
              "      } catch (error) {\n",
              "        console.error('Error during call to suggestCharts:', error);\n",
              "      }\n",
              "      quickchartButtonEl.classList.remove('colab-df-spinner');\n",
              "      quickchartButtonEl.classList.add('colab-df-quickchart-complete');\n",
              "    }\n",
              "    (() => {\n",
              "      let quickchartButtonEl =\n",
              "        document.querySelector('#df-6a9841f0-42d2-4a3e-a2fe-5b05c8e2956c button');\n",
              "      quickchartButtonEl.style.display =\n",
              "        google.colab.kernel.accessAllowed ? 'block' : 'none';\n",
              "    })();\n",
              "  </script>\n",
              "</div>\n",
              "\n",
              "  <div id=\"id_20921574-2af2-4b04-89f4-9ecedcbf37a5\">\n",
              "    <style>\n",
              "      .colab-df-generate {\n",
              "        background-color: #E8F0FE;\n",
              "        border: none;\n",
              "        border-radius: 50%;\n",
              "        cursor: pointer;\n",
              "        display: none;\n",
              "        fill: #1967D2;\n",
              "        height: 32px;\n",
              "        padding: 0 0 0 0;\n",
              "        width: 32px;\n",
              "      }\n",
              "\n",
              "      .colab-df-generate:hover {\n",
              "        background-color: #E2EBFA;\n",
              "        box-shadow: 0px 1px 2px rgba(60, 64, 67, 0.3), 0px 1px 3px 1px rgba(60, 64, 67, 0.15);\n",
              "        fill: #174EA6;\n",
              "      }\n",
              "\n",
              "      [theme=dark] .colab-df-generate {\n",
              "        background-color: #3B4455;\n",
              "        fill: #D2E3FC;\n",
              "      }\n",
              "\n",
              "      [theme=dark] .colab-df-generate:hover {\n",
              "        background-color: #434B5C;\n",
              "        box-shadow: 0px 1px 3px 1px rgba(0, 0, 0, 0.15);\n",
              "        filter: drop-shadow(0px 1px 2px rgba(0, 0, 0, 0.3));\n",
              "        fill: #FFFFFF;\n",
              "      }\n",
              "    </style>\n",
              "    <button class=\"colab-df-generate\" onclick=\"generateWithVariable('df')\"\n",
              "            title=\"Generate code using this dataframe.\"\n",
              "            style=\"display:none;\">\n",
              "\n",
              "  <svg xmlns=\"http://www.w3.org/2000/svg\" height=\"24px\"viewBox=\"0 0 24 24\"\n",
              "       width=\"24px\">\n",
              "    <path d=\"M7,19H8.4L18.45,9,17,7.55,7,17.6ZM5,21V16.75L18.45,3.32a2,2,0,0,1,2.83,0l1.4,1.43a1.91,1.91,0,0,1,.58,1.4,1.91,1.91,0,0,1-.58,1.4L9.25,21ZM18.45,9,17,7.55Zm-12,3A5.31,5.31,0,0,0,4.9,8.1,5.31,5.31,0,0,0,1,6.5,5.31,5.31,0,0,0,4.9,4.9,5.31,5.31,0,0,0,6.5,1,5.31,5.31,0,0,0,8.1,4.9,5.31,5.31,0,0,0,12,6.5,5.46,5.46,0,0,0,6.5,12Z\"/>\n",
              "  </svg>\n",
              "    </button>\n",
              "    <script>\n",
              "      (() => {\n",
              "      const buttonEl =\n",
              "        document.querySelector('#id_20921574-2af2-4b04-89f4-9ecedcbf37a5 button.colab-df-generate');\n",
              "      buttonEl.style.display =\n",
              "        google.colab.kernel.accessAllowed ? 'block' : 'none';\n",
              "\n",
              "      buttonEl.onclick = () => {\n",
              "        google.colab.notebook.generateWithVariable('df');\n",
              "      }\n",
              "      })();\n",
              "    </script>\n",
              "  </div>\n",
              "\n",
              "    </div>\n",
              "  </div>\n"
            ],
            "application/vnd.google.colaboratory.intrinsic+json": {
              "type": "dataframe",
              "variable_name": "df"
            }
          },
          "metadata": {},
          "execution_count": 8
        }
      ]
    },
    {
      "cell_type": "code",
      "source": [
        "import seaborn as sns\n",
        "\n",
        "### Cannot plot histgram due to memory limitation, the session will just crash\n",
        "### outliers are removed\n",
        "\n",
        "ax = sns.boxplot(x=\"source\", y=\"length\", data=df, fliersize=1)\n",
        "ax.set_yscale('log')\n",
        "ax.set_ylabel('log(length)')\n",
        "plt.xticks(rotation=45)\n",
        "plt.show()"
      ],
      "metadata": {
        "id": "aXWMmIfYaAc1",
        "colab": {
          "base_uri": "https://localhost:8080/",
          "height": 529
        },
        "outputId": "71622ed9-4397-41e3-dabc-67db48eb41c4"
      },
      "id": "aXWMmIfYaAc1",
      "execution_count": null,
      "outputs": [
        {
          "output_type": "display_data",
          "data": {
            "text/plain": [
              "<Figure size 640x480 with 1 Axes>"
            ],
            "image/png": "[encoded data removed]"
          },
          "metadata": {}
        }
      ]
    },
    {
      "cell_type": "code",
      "source": [
        "havana_df = df[df['source'] == 'havana']\n",
        "havana_df = havana_df.reset_index()\n",
        "grch_df = df[df['source'] == 'GRCh38']\n",
        "grch_df = grch_df.reset_index()\n",
        "mir_df = df[df['source'] == 'mirbase']\n",
        "mir_df = mir_df.reset_index()\n",
        "ensembl_df = df[df['source'] == 'ensembl']\n",
        "ensembl_df = ensembl_df.reset_index()\n",
        "insdc_df = df[df['source'] == 'insdc']\n",
        "insdc_df = insdc_df.reset_index()\n",
        "eh_df = df[df['source'] == 'ensembl_havana']\n",
        "eh_df = eh_df.reset_index()"
      ],
      "metadata": {
        "id": "Wk6G23AcQ0wG"
      },
      "id": "Wk6G23AcQ0wG",
      "execution_count": null,
      "outputs": []
    },
    {
      "cell_type": "code",
      "source": [
        "sns.histplot(data=havana_df, x='index', y='length', bins=50)\n",
        "plt.title('Distribution of Lengths for Havana')\n",
        "plt.xlabel('Index')\n",
        "plt.ylabel('Length')\n",
        "#plt.yscale('log')\n",
        "plt.show()"
      ],
      "metadata": {
        "id": "dY5md8aaCWNy",
        "colab": {
          "base_uri": "https://localhost:8080/",
          "height": 472
        },
        "outputId": "cbcd410a-2c87-43d0-f8ca-3e5f1cbec1dc"
      },
      "id": "dY5md8aaCWNy",
      "execution_count": null,
      "outputs": [
        {
          "output_type": "display_data",
          "data": {
            "text/plain": [
              "<Figure size 640x480 with 1 Axes>"
            ],
            "image/png": "[encoded data removed]"
          },
          "metadata": {}
        }
      ]
    },
    {
      "cell_type": "code",
      "source": [
        "nrows, ncols = 2, 3\n",
        "fig, axes = plt.subplots(nrows=nrows, ncols=ncols, figsize=(15, 10))\n",
        "dfs = [havana_df, grch_df, mir_df, ensembl_df, insdc_df, eh_df]\n",
        "axes_flat = axes.flatten()\n",
        "titles = ['Havana', 'GRCh', 'MiR', 'Ensembl', 'INSDC', 'ensembl havana']\n",
        "for ax, df, title in zip(axes_flat, dfs, titles):\n",
        "    sns.histplot(data=df, x='index', y='length', bins=50, ax=ax)\n",
        "    ax.set_title(title)\n",
        "    ax.set_xlabel('Index')\n",
        "    ax.set_ylabel('Length')\n",
        "plt.tight_layout()\n",
        "\n",
        "### didnt set logy scale because the difference among length is too great, if set logy, some are not visible at all"
      ],
      "metadata": {
        "colab": {
          "base_uri": "https://localhost:8080/",
          "height": 1000
        },
        "id": "sMypjAytVeUX",
        "outputId": "5d9a3811-6f04-4e6d-fac5-732b0e61da5f"
      },
      "id": "sMypjAytVeUX",
      "execution_count": null,
      "outputs": [
        {
          "output_type": "display_data",
          "data": {
            "text/plain": [
              "<Figure size 1500x1000 with 6 Axes>"
            ],
            "image/png": "[encoded data removed]"
          },
          "metadata": {}
        }
      ]
    },
    {
      "cell_type": "markdown",
      "metadata": {
        "id": "fd22c347-aadf-4764-87b5-13ed7c07cfb2"
      },
      "source": [
        "#### W5-H19:  \n",
        "\n",
        "Can you generate the following for the mirbase entries in the pandas dataframe?\n",
        "\n",
        "1) count and length information of the genes,\n",
        "2) a visualisation of the length distribution across the chromosomes,\n",
        "3) information on the shortest and longest genes?\n",
        "\n",
        "Can you generate the following for the exons in the edf database?\n",
        "\n",
        "1) count and length information of the exons,\n",
        "2) a visualisation of the length distribution across the chromosomes,\n",
        "3) information on the shortest and longest exons?\n"
      ],
      "id": "fd22c347-aadf-4764-87b5-13ed7c07cfb2"
    },
    {
      "cell_type": "code",
      "source": [
        "mir_df.type.value_counts()"
      ],
      "metadata": {
        "colab": {
          "base_uri": "https://localhost:8080/"
        },
        "id": "cMBQDMPXWS1K",
        "outputId": "cc79f960-1b59-4248-c719-c008f72d7566"
      },
      "id": "cMBQDMPXWS1K",
      "execution_count": null,
      "outputs": [
        {
          "output_type": "execute_result",
          "data": {
            "text/plain": [
              "miRNA_gene    1567\n",
              "miRNA         1567\n",
              "exon          1567\n",
              "Name: type, dtype: int64"
            ]
          },
          "metadata": {},
          "execution_count": 40
        }
      ]
    },
    {
      "cell_type": "code",
      "source": [
        "sns.histplot(data=mir_df, x=\"length\", hue='type')\n",
        "\n",
        "### these three types of nucleotide have the length distribution"
      ],
      "metadata": {
        "colab": {
          "base_uri": "https://localhost:8080/",
          "height": 466
        },
        "id": "GamzVdvKVwjR",
        "outputId": "ddaa0141-1b08-45ae-ad8a-8271bb06b726"
      },
      "id": "GamzVdvKVwjR",
      "execution_count": null,
      "outputs": [
        {
          "output_type": "execute_result",
          "data": {
            "text/plain": [
              "<Axes: xlabel='length', ylabel='Count'>"
            ]
          },
          "metadata": {},
          "execution_count": 41
        },
        {
          "output_type": "display_data",
          "data": {
            "text/plain": [
              "<Figure size 640x480 with 1 Axes>"
            ],
            "image/png": "[encoded data removed]"
          },
          "metadata": {}
        }
      ]
    },
    {
      "cell_type": "code",
      "source": [
        "mirmirnagene = mir_df[mir_df['type'] == 'miRNA_gene']\n",
        "sns.histplot(data=mirmirnagene, x=\"length\")\n",
        "\n",
        "### these three types of nucleotide have the length distribution"
      ],
      "metadata": {
        "colab": {
          "base_uri": "https://localhost:8080/",
          "height": 466
        },
        "id": "diSWt_2pcryf",
        "outputId": "8c46a739-7985-460d-ce6b-0bc6479f07b8"
      },
      "id": "diSWt_2pcryf",
      "execution_count": null,
      "outputs": [
        {
          "output_type": "execute_result",
          "data": {
            "text/plain": [
              "<Axes: xlabel='length', ylabel='Count'>"
            ]
          },
          "metadata": {},
          "execution_count": 28
        },
        {
          "output_type": "display_data",
          "data": {
            "text/plain": [
              "<Figure size 640x480 with 1 Axes>"
            ],
            "image/png": "[encoded data removed]"
          },
          "metadata": {}
        }
      ]
    },
    {
      "cell_type": "code",
      "source": [
        "df"
      ],
      "metadata": {
        "colab": {
          "base_uri": "https://localhost:8080/",
          "height": 424
        },
        "id": "EinQQ2x-leIP",
        "outputId": "8aea10d3-28c3-474b-81b2-75ddf7a19a95"
      },
      "id": "EinQQ2x-leIP",
      "execution_count": null,
      "outputs": [
        {
          "output_type": "execute_result",
          "data": {
            "text/plain": [
              "          index seqid          source          type     start       end score  \\\n",
              "0            51     1  ensembl_havana  lincRNA_gene     29554     31109     .   \n",
              "1            52     1  ensembl_havana       lincRNA     29554     31097     .   \n",
              "2            56     1  ensembl_havana       lincRNA     30267     31109     .   \n",
              "3            59     1  ensembl_havana         miRNA     30366     30503     .   \n",
              "4            77     1  ensembl_havana          gene     69091     70008     .   \n",
              "...         ...   ...             ...           ...       ...       ...   ...   \n",
              "745060  2601706     Y  ensembl_havana          gene  25975549  25988069     .   \n",
              "745061  2601707     Y  ensembl_havana    pseudogene  25975549  25988069     .   \n",
              "745062  2601708     Y  ensembl_havana          exon  25975549  25975617     .   \n",
              "745063  2601709     Y  ensembl_havana          exon  25978204  25978319     .   \n",
              "745064  2601710     Y  ensembl_havana          exon  25987811  25988069     .   \n",
              "\n",
              "       strand phase                                         attributes  length  \n",
              "0           +     .  ID=gene:ENSG00000243485;Name=MIR1302-2;biotype...    1556  \n",
              "1           +     .  ID=transcript:ENST00000473358;Parent=gene:ENSG...    1544  \n",
              "2           +     .  ID=transcript:ENST00000469289;Parent=gene:ENSG...     843  \n",
              "3           +     .  ID=transcript:ENST00000607096;Parent=gene:ENSG...     138  \n",
              "4           +     .  ID=gene:ENSG00000186092;Name=OR4F5;biotype=pro...     918  \n",
              "...       ...   ...                                                ...     ...  \n",
              "745060      +     .  ID=gene:ENSG00000172283;Name=PRYP4;biotype=unp...   12521  \n",
              "745061      +     .  ID=transcript:ENST00000306589;Parent=gene:ENSG...   12521  \n",
              "745062      +     .  Parent=transcript:ENST00000306589;Name=ENSE000...      69  \n",
              "745063      +     .  Parent=transcript:ENST00000306589;Name=ENSE000...     116  \n",
              "745064      +     .  Parent=transcript:ENST00000306589;Name=ENSE000...     259  \n",
              "\n",
              "[745065 rows x 11 columns]"
            ],
            "text/html": [
              "\n",
              "  <div id=\"df-dce9b98c-e404-4f7f-92c1-875f7a494a8d\" class=\"colab-df-container\">\n",
              "    <div>\n",
              "<style scoped>\n",
              "    .dataframe tbody tr th:only-of-type {\n",
              "        vertical-align: middle;\n",
              "    }\n",
              "\n",
              "    .dataframe tbody tr th {\n",
              "        vertical-align: top;\n",
              "    }\n",
              "\n",
              "    .dataframe thead th {\n",
              "        text-align: right;\n",
              "    }\n",
              "</style>\n",
              "<table border=\"1\" class=\"dataframe\">\n",
              "  <thead>\n",
              "    <tr style=\"text-align: right;\">\n",
              "      <th></th>\n",
              "      <th>index</th>\n",
              "      <th>seqid</th>\n",
              "      <th>source</th>\n",
              "      <th>type</th>\n",
              "      <th>start</th>\n",
              "      <th>end</th>\n",
              "      <th>score</th>\n",
              "      <th>strand</th>\n",
              "      <th>phase</th>\n",
              "      <th>attributes</th>\n",
              "      <th>length</th>\n",
              "    </tr>\n",
              "  </thead>\n",
              "  <tbody>\n",
              "    <tr>\n",
              "      <th>0</th>\n",
              "      <td>51</td>\n",
              "      <td>1</td>\n",
              "      <td>ensembl_havana</td>\n",
              "      <td>lincRNA_gene</td>\n",
              "      <td>29554</td>\n",
              "      <td>31109</td>\n",
              "      <td>.</td>\n",
              "      <td>+</td>\n",
              "      <td>.</td>\n",
              "      <td>ID=gene:ENSG00000243485;Name=MIR1302-2;biotype...</td>\n",
              "      <td>1556</td>\n",
              "    </tr>\n",
              "    <tr>\n",
              "      <th>1</th>\n",
              "      <td>52</td>\n",
              "      <td>1</td>\n",
              "      <td>ensembl_havana</td>\n",
              "      <td>lincRNA</td>\n",
              "      <td>29554</td>\n",
              "      <td>31097</td>\n",
              "      <td>.</td>\n",
              "      <td>+</td>\n",
              "      <td>.</td>\n",
              "      <td>ID=transcript:ENST00000473358;Parent=gene:ENSG...</td>\n",
              "      <td>1544</td>\n",
              "    </tr>\n",
              "    <tr>\n",
              "      <th>2</th>\n",
              "      <td>56</td>\n",
              "      <td>1</td>\n",
              "      <td>ensembl_havana</td>\n",
              "      <td>lincRNA</td>\n",
              "      <td>30267</td>\n",
              "      <td>31109</td>\n",
              "      <td>.</td>\n",
              "      <td>+</td>\n",
              "      <td>.</td>\n",
              "      <td>ID=transcript:ENST00000469289;Parent=gene:ENSG...</td>\n",
              "      <td>843</td>\n",
              "    </tr>\n",
              "    <tr>\n",
              "      <th>3</th>\n",
              "      <td>59</td>\n",
              "      <td>1</td>\n",
              "      <td>ensembl_havana</td>\n",
              "      <td>miRNA</td>\n",
              "      <td>30366</td>\n",
              "      <td>30503</td>\n",
              "      <td>.</td>\n",
              "      <td>+</td>\n",
              "      <td>.</td>\n",
              "      <td>ID=transcript:ENST00000607096;Parent=gene:ENSG...</td>\n",
              "      <td>138</td>\n",
              "    </tr>\n",
              "    <tr>\n",
              "      <th>4</th>\n",
              "      <td>77</td>\n",
              "      <td>1</td>\n",
              "      <td>ensembl_havana</td>\n",
              "      <td>gene</td>\n",
              "      <td>69091</td>\n",
              "      <td>70008</td>\n",
              "      <td>.</td>\n",
              "      <td>+</td>\n",
              "      <td>.</td>\n",
              "      <td>ID=gene:ENSG00000186092;Name=OR4F5;biotype=pro...</td>\n",
              "      <td>918</td>\n",
              "    </tr>\n",
              "    <tr>\n",
              "      <th>...</th>\n",
              "      <td>...</td>\n",
              "      <td>...</td>\n",
              "      <td>...</td>\n",
              "      <td>...</td>\n",
              "      <td>...</td>\n",
              "      <td>...</td>\n",
              "      <td>...</td>\n",
              "      <td>...</td>\n",
              "      <td>...</td>\n",
              "      <td>...</td>\n",
              "      <td>...</td>\n",
              "    </tr>\n",
              "    <tr>\n",
              "      <th>745060</th>\n",
              "      <td>2601706</td>\n",
              "      <td>Y</td>\n",
              "      <td>ensembl_havana</td>\n",
              "      <td>gene</td>\n",
              "      <td>25975549</td>\n",
              "      <td>25988069</td>\n",
              "      <td>.</td>\n",
              "      <td>+</td>\n",
              "      <td>.</td>\n",
              "      <td>ID=gene:ENSG00000172283;Name=PRYP4;biotype=unp...</td>\n",
              "      <td>12521</td>\n",
              "    </tr>\n",
              "    <tr>\n",
              "      <th>745061</th>\n",
              "      <td>2601707</td>\n",
              "      <td>Y</td>\n",
              "      <td>ensembl_havana</td>\n",
              "      <td>pseudogene</td>\n",
              "      <td>25975549</td>\n",
              "      <td>25988069</td>\n",
              "      <td>.</td>\n",
              "      <td>+</td>\n",
              "      <td>.</td>\n",
              "      <td>ID=transcript:ENST00000306589;Parent=gene:ENSG...</td>\n",
              "      <td>12521</td>\n",
              "    </tr>\n",
              "    <tr>\n",
              "      <th>745062</th>\n",
              "      <td>2601708</td>\n",
              "      <td>Y</td>\n",
              "      <td>ensembl_havana</td>\n",
              "      <td>exon</td>\n",
              "      <td>25975549</td>\n",
              "      <td>25975617</td>\n",
              "      <td>.</td>\n",
              "      <td>+</td>\n",
              "      <td>.</td>\n",
              "      <td>Parent=transcript:ENST00000306589;Name=ENSE000...</td>\n",
              "      <td>69</td>\n",
              "    </tr>\n",
              "    <tr>\n",
              "      <th>745063</th>\n",
              "      <td>2601709</td>\n",
              "      <td>Y</td>\n",
              "      <td>ensembl_havana</td>\n",
              "      <td>exon</td>\n",
              "      <td>25978204</td>\n",
              "      <td>25978319</td>\n",
              "      <td>.</td>\n",
              "      <td>+</td>\n",
              "      <td>.</td>\n",
              "      <td>Parent=transcript:ENST00000306589;Name=ENSE000...</td>\n",
              "      <td>116</td>\n",
              "    </tr>\n",
              "    <tr>\n",
              "      <th>745064</th>\n",
              "      <td>2601710</td>\n",
              "      <td>Y</td>\n",
              "      <td>ensembl_havana</td>\n",
              "      <td>exon</td>\n",
              "      <td>25987811</td>\n",
              "      <td>25988069</td>\n",
              "      <td>.</td>\n",
              "      <td>+</td>\n",
              "      <td>.</td>\n",
              "      <td>Parent=transcript:ENST00000306589;Name=ENSE000...</td>\n",
              "      <td>259</td>\n",
              "    </tr>\n",
              "  </tbody>\n",
              "</table>\n",
              "<p>745065 rows × 11 columns</p>\n",
              "</div>\n",
              "    <div class=\"colab-df-buttons\">\n",
              "\n",
              "  <div class=\"colab-df-container\">\n",
              "    <button class=\"colab-df-convert\" onclick=\"convertToInteractive('df-dce9b98c-e404-4f7f-92c1-875f7a494a8d')\"\n",
              "            title=\"Convert this dataframe to an interactive table.\"\n",
              "            style=\"display:none;\">\n",
              "\n",
              "  <svg xmlns=\"http://www.w3.org/2000/svg\" height=\"24px\" viewBox=\"0 -960 960 960\">\n",
              "    <path d=\"M120-120v-720h720v720H120Zm60-500h600v-160H180v160Zm220 220h160v-160H400v160Zm0 220h160v-160H400v160ZM180-400h160v-160H180v160Zm440 0h160v-160H620v160ZM180-180h160v-160H180v160Zm440 0h160v-160H620v160Z\"/>\n",
              "  </svg>\n",
              "    </button>\n",
              "\n",
              "  <style>\n",
              "    .colab-df-container {\n",
              "      display:flex;\n",
              "      gap: 12px;\n",
              "    }\n",
              "\n",
              "    .colab-df-convert {\n",
              "      background-color: #E8F0FE;\n",
              "      border: none;\n",
              "      border-radius: 50%;\n",
              "      cursor: pointer;\n",
              "      display: none;\n",
              "      fill: #1967D2;\n",
              "      height: 32px;\n",
              "      padding: 0 0 0 0;\n",
              "      width: 32px;\n",
              "    }\n",
              "\n",
              "    .colab-df-convert:hover {\n",
              "      background-color: #E2EBFA;\n",
              "      box-shadow: 0px 1px 2px rgba(60, 64, 67, 0.3), 0px 1px 3px 1px rgba(60, 64, 67, 0.15);\n",
              "      fill: #174EA6;\n",
              "    }\n",
              "\n",
              "    .colab-df-buttons div {\n",
              "      margin-bottom: 4px;\n",
              "    }\n",
              "\n",
              "    [theme=dark] .colab-df-convert {\n",
              "      background-color: #3B4455;\n",
              "      fill: #D2E3FC;\n",
              "    }\n",
              "\n",
              "    [theme=dark] .colab-df-convert:hover {\n",
              "      background-color: #434B5C;\n",
              "      box-shadow: 0px 1px 3px 1px rgba(0, 0, 0, 0.15);\n",
              "      filter: drop-shadow(0px 1px 2px rgba(0, 0, 0, 0.3));\n",
              "      fill: #FFFFFF;\n",
              "    }\n",
              "  </style>\n",
              "\n",
              "    <script>\n",
              "      const buttonEl =\n",
              "        document.querySelector('#df-dce9b98c-e404-4f7f-92c1-875f7a494a8d button.colab-df-convert');\n",
              "      buttonEl.style.display =\n",
              "        google.colab.kernel.accessAllowed ? 'block' : 'none';\n",
              "\n",
              "      async function convertToInteractive(key) {\n",
              "        const element = document.querySelector('#df-dce9b98c-e404-4f7f-92c1-875f7a494a8d');\n",
              "        const dataTable =\n",
              "          await google.colab.kernel.invokeFunction('convertToInteractive',\n",
              "                                                    [key], {});\n",
              "        if (!dataTable) return;\n",
              "\n",
              "        const docLinkHtml = 'Like what you see? Visit the ' +\n",
              "          '<a target=\"_blank\" href=https://colab.research.google.com/notebooks/data_table.ipynb>data table notebook</a>'\n",
              "          + ' to learn more about interactive tables.';\n",
              "        element.innerHTML = '';\n",
              "        dataTable['output_type'] = 'display_data';\n",
              "        await google.colab.output.renderOutput(dataTable, element);\n",
              "        const docLink = document.createElement('div');\n",
              "        docLink.innerHTML = docLinkHtml;\n",
              "        element.appendChild(docLink);\n",
              "      }\n",
              "    </script>\n",
              "  </div>\n",
              "\n",
              "\n",
              "<div id=\"df-3fb069d4-d0ca-469f-b9fa-de499a1ca7dc\">\n",
              "  <button class=\"colab-df-quickchart\" onclick=\"quickchart('df-3fb069d4-d0ca-469f-b9fa-de499a1ca7dc')\"\n",
              "            title=\"Suggest charts\"\n",
              "            style=\"display:none;\">\n",
              "\n",
              "<svg xmlns=\"http://www.w3.org/2000/svg\" height=\"24px\"viewBox=\"0 0 24 24\"\n",
              "     width=\"24px\">\n",
              "    <g>\n",
              "        <path d=\"M19 3H5c-1.1 0-2 .9-2 2v14c0 1.1.9 2 2 2h14c1.1 0 2-.9 2-2V5c0-1.1-.9-2-2-2zM9 17H7v-7h2v7zm4 0h-2V7h2v10zm4 0h-2v-4h2v4z\"/>\n",
              "    </g>\n",
              "</svg>\n",
              "  </button>\n",
              "\n",
              "<style>\n",
              "  .colab-df-quickchart {\n",
              "      --bg-color: #E8F0FE;\n",
              "      --fill-color: #1967D2;\n",
              "      --hover-bg-color: #E2EBFA;\n",
              "      --hover-fill-color: #174EA6;\n",
              "      --disabled-fill-color: #AAA;\n",
              "      --disabled-bg-color: #DDD;\n",
              "  }\n",
              "\n",
              "  [theme=dark] .colab-df-quickchart {\n",
              "      --bg-color: #3B4455;\n",
              "      --fill-color: #D2E3FC;\n",
              "      --hover-bg-color: #434B5C;\n",
              "      --hover-fill-color: #FFFFFF;\n",
              "      --disabled-bg-color: #3B4455;\n",
              "      --disabled-fill-color: #666;\n",
              "  }\n",
              "\n",
              "  .colab-df-quickchart {\n",
              "    background-color: var(--bg-color);\n",
              "    border: none;\n",
              "    border-radius: 50%;\n",
              "    cursor: pointer;\n",
              "    display: none;\n",
              "    fill: var(--fill-color);\n",
              "    height: 32px;\n",
              "    padding: 0;\n",
              "    width: 32px;\n",
              "  }\n",
              "\n",
              "  .colab-df-quickchart:hover {\n",
              "    background-color: var(--hover-bg-color);\n",
              "    box-shadow: 0 1px 2px rgba(60, 64, 67, 0.3), 0 1px 3px 1px rgba(60, 64, 67, 0.15);\n",
              "    fill: var(--button-hover-fill-color);\n",
              "  }\n",
              "\n",
              "  .colab-df-quickchart-complete:disabled,\n",
              "  .colab-df-quickchart-complete:disabled:hover {\n",
              "    background-color: var(--disabled-bg-color);\n",
              "    fill: var(--disabled-fill-color);\n",
              "    box-shadow: none;\n",
              "  }\n",
              "\n",
              "  .colab-df-spinner {\n",
              "    border: 2px solid var(--fill-color);\n",
              "    border-color: transparent;\n",
              "    border-bottom-color: var(--fill-color);\n",
              "    animation:\n",
              "      spin 1s steps(1) infinite;\n",
              "  }\n",
              "\n",
              "  @keyframes spin {\n",
              "    0% {\n",
              "      border-color: transparent;\n",
              "      border-bottom-color: var(--fill-color);\n",
              "      border-left-color: var(--fill-color);\n",
              "    }\n",
              "    20% {\n",
              "      border-color: transparent;\n",
              "      border-left-color: var(--fill-color);\n",
              "      border-top-color: var(--fill-color);\n",
              "    }\n",
              "    30% {\n",
              "      border-color: transparent;\n",
              "      border-left-color: var(--fill-color);\n",
              "      border-top-color: var(--fill-color);\n",
              "      border-right-color: var(--fill-color);\n",
              "    }\n",
              "    40% {\n",
              "      border-color: transparent;\n",
              "      border-right-color: var(--fill-color);\n",
              "      border-top-color: var(--fill-color);\n",
              "    }\n",
              "    60% {\n",
              "      border-color: transparent;\n",
              "      border-right-color: var(--fill-color);\n",
              "    }\n",
              "    80% {\n",
              "      border-color: transparent;\n",
              "      border-right-color: var(--fill-color);\n",
              "      border-bottom-color: var(--fill-color);\n",
              "    }\n",
              "    90% {\n",
              "      border-color: transparent;\n",
              "      border-bottom-color: var(--fill-color);\n",
              "    }\n",
              "  }\n",
              "</style>\n",
              "\n",
              "  <script>\n",
              "    async function quickchart(key) {\n",
              "      const quickchartButtonEl =\n",
              "        document.querySelector('#' + key + ' button');\n",
              "      quickchartButtonEl.disabled = true;  // To prevent multiple clicks.\n",
              "      quickchartButtonEl.classList.add('colab-df-spinner');\n",
              "      try {\n",
              "        const charts = await google.colab.kernel.invokeFunction(\n",
              "            'suggestCharts', [key], {});\n",
              "      } catch (error) {\n",
              "        console.error('Error during call to suggestCharts:', error);\n",
              "      }\n",
              "      quickchartButtonEl.classList.remove('colab-df-spinner');\n",
              "      quickchartButtonEl.classList.add('colab-df-quickchart-complete');\n",
              "    }\n",
              "    (() => {\n",
              "      let quickchartButtonEl =\n",
              "        document.querySelector('#df-3fb069d4-d0ca-469f-b9fa-de499a1ca7dc button');\n",
              "      quickchartButtonEl.style.display =\n",
              "        google.colab.kernel.accessAllowed ? 'block' : 'none';\n",
              "    })();\n",
              "  </script>\n",
              "</div>\n",
              "\n",
              "  <div id=\"id_84670be8-683e-4c88-814b-312af9872de6\">\n",
              "    <style>\n",
              "      .colab-df-generate {\n",
              "        background-color: #E8F0FE;\n",
              "        border: none;\n",
              "        border-radius: 50%;\n",
              "        cursor: pointer;\n",
              "        display: none;\n",
              "        fill: #1967D2;\n",
              "        height: 32px;\n",
              "        padding: 0 0 0 0;\n",
              "        width: 32px;\n",
              "      }\n",
              "\n",
              "      .colab-df-generate:hover {\n",
              "        background-color: #E2EBFA;\n",
              "        box-shadow: 0px 1px 2px rgba(60, 64, 67, 0.3), 0px 1px 3px 1px rgba(60, 64, 67, 0.15);\n",
              "        fill: #174EA6;\n",
              "      }\n",
              "\n",
              "      [theme=dark] .colab-df-generate {\n",
              "        background-color: #3B4455;\n",
              "        fill: #D2E3FC;\n",
              "      }\n",
              "\n",
              "      [theme=dark] .colab-df-generate:hover {\n",
              "        background-color: #434B5C;\n",
              "        box-shadow: 0px 1px 3px 1px rgba(0, 0, 0, 0.15);\n",
              "        filter: drop-shadow(0px 1px 2px rgba(0, 0, 0, 0.3));\n",
              "        fill: #FFFFFF;\n",
              "      }\n",
              "    </style>\n",
              "    <button class=\"colab-df-generate\" onclick=\"generateWithVariable('df')\"\n",
              "            title=\"Generate code using this dataframe.\"\n",
              "            style=\"display:none;\">\n",
              "\n",
              "  <svg xmlns=\"http://www.w3.org/2000/svg\" height=\"24px\"viewBox=\"0 0 24 24\"\n",
              "       width=\"24px\">\n",
              "    <path d=\"M7,19H8.4L18.45,9,17,7.55,7,17.6ZM5,21V16.75L18.45,3.32a2,2,0,0,1,2.83,0l1.4,1.43a1.91,1.91,0,0,1,.58,1.4,1.91,1.91,0,0,1-.58,1.4L9.25,21ZM18.45,9,17,7.55Zm-12,3A5.31,5.31,0,0,0,4.9,8.1,5.31,5.31,0,0,0,1,6.5,5.31,5.31,0,0,0,4.9,4.9,5.31,5.31,0,0,0,6.5,1,5.31,5.31,0,0,0,8.1,4.9,5.31,5.31,0,0,0,12,6.5,5.46,5.46,0,0,0,6.5,12Z\"/>\n",
              "  </svg>\n",
              "    </button>\n",
              "    <script>\n",
              "      (() => {\n",
              "      const buttonEl =\n",
              "        document.querySelector('#id_84670be8-683e-4c88-814b-312af9872de6 button.colab-df-generate');\n",
              "      buttonEl.style.display =\n",
              "        google.colab.kernel.accessAllowed ? 'block' : 'none';\n",
              "\n",
              "      buttonEl.onclick = () => {\n",
              "        google.colab.notebook.generateWithVariable('df');\n",
              "      }\n",
              "      })();\n",
              "    </script>\n",
              "  </div>\n",
              "\n",
              "    </div>\n",
              "  </div>\n"
            ],
            "application/vnd.google.colaboratory.intrinsic+json": {
              "type": "dataframe",
              "variable_name": "df"
            }
          },
          "metadata": {},
          "execution_count": 63
        }
      ]
    },
    {
      "cell_type": "code",
      "source": [
        "mir_df_sorted = mir_df.sort_values(by='seqid', ascending=True)\n",
        "mir_df_sorted = mir_df_sorted.reset_index()\n",
        "order = sorted(mir_df_sorted['seqid'].unique(), key=lambda x:[1,2,3,4,5,6,7,8,9,10,11,12,13,14,15,16,17,18,19,20,21,22,\"X\"])\n",
        "order\n",
        "\n",
        "### cannot seem to fix the order issue"
      ],
      "metadata": {
        "id": "yK4zz0d7jyVL"
      },
      "id": "yK4zz0d7jyVL",
      "execution_count": null,
      "outputs": []
    },
    {
      "cell_type": "code",
      "source": [
        "mir_df_sorted['seqid'] = pd.Categorical(mir_df_sorted['seqid'], ordered=True, categories=order)"
      ],
      "metadata": {
        "id": "doPe3Q_AJ_TN"
      },
      "id": "doPe3Q_AJ_TN",
      "execution_count": null,
      "outputs": []
    },
    {
      "cell_type": "code",
      "source": [
        "sns.histplot(data=mir_df_sorted, y=\"length\", x='seqid')\n",
        "\n",
        "### these length make sense since microRNA is about this long, 2 to low 3 digits.\n",
        "### miRNA is exported out to cytoplasm to bind with RISC complex, this compound then bind to complementary mRNA, leading to degradation of the target mRNA."
      ],
      "metadata": {
        "colab": {
          "base_uri": "https://localhost:8080/",
          "height": 466
        },
        "id": "dW3Yipv0i5z5",
        "outputId": "cd18491b-3767-4a01-cc37-5b70eb9c6714"
      },
      "id": "dW3Yipv0i5z5",
      "execution_count": null,
      "outputs": [
        {
          "output_type": "execute_result",
          "data": {
            "text/plain": [
              "<Axes: xlabel='seqid', ylabel='length'>"
            ]
          },
          "metadata": {},
          "execution_count": 75
        },
        {
          "output_type": "display_data",
          "data": {
            "text/plain": [
              "<Figure size 640x480 with 1 Axes>"
            ],
            "image/png": "[encoded data removed]"
          },
          "metadata": {}
        }
      ]
    },
    {
      "cell_type": "code",
      "source": [
        "# largest and smallest length\n",
        "print(mir_df_sorted['length'].max(), mir_df_sorted['length'].min())"
      ],
      "metadata": {
        "colab": {
          "base_uri": "https://localhost:8080/"
        },
        "id": "cjqkvdyHLerT",
        "outputId": "49b8f399-74cf-4e6e-cf85-6b620978d25b"
      },
      "id": "cjqkvdyHLerT",
      "execution_count": null,
      "outputs": [
        {
          "output_type": "stream",
          "name": "stdout",
          "text": [
            "180 41\n"
          ]
        }
      ]
    },
    {
      "cell_type": "code",
      "source": [
        "edf = df[df.source.isin(['ensembl', 'havana', 'ensembl_havana'])]"
      ],
      "metadata": {
        "id": "qQjyvsD5fWpr"
      },
      "id": "qQjyvsD5fWpr",
      "execution_count": null,
      "outputs": []
    },
    {
      "cell_type": "code",
      "source": [
        "edf_sorted = edf.sort_values(by='seqid', ascending=True)"
      ],
      "metadata": {
        "id": "AjO0HS9rihs_"
      },
      "id": "AjO0HS9rihs_",
      "execution_count": null,
      "outputs": []
    },
    {
      "cell_type": "code",
      "source": [
        "sns.histplot(data=edf_sorted, y=\"length\", x='seqid')\n",
        "plt.yscale('log')"
      ],
      "metadata": {
        "colab": {
          "base_uri": "https://localhost:8080/",
          "height": 449
        },
        "id": "GhmZOAkwOB08",
        "outputId": "9e8ee09a-a748-4adc-cc1a-81457e1785c6"
      },
      "id": "GhmZOAkwOB08",
      "execution_count": null,
      "outputs": [
        {
          "output_type": "display_data",
          "data": {
            "text/plain": [
              "<Figure size 640x480 with 1 Axes>"
            ],
            "image/png": "[encoded data removed]"
          },
          "metadata": {}
        }
      ]
    },
    {
      "cell_type": "code",
      "source": [
        "print(edf_sorted['length'].max(), edf_sorted['length'].min())"
      ],
      "metadata": {
        "id": "8phGUSNLE9Ay"
      },
      "id": "8phGUSNLE9Ay",
      "execution_count": null,
      "outputs": []
    },
    {
      "cell_type": "markdown",
      "metadata": {
        "id": "953242ab-aaea-4129-89c8-a78c6b3e249e"
      },
      "source": [
        "See also\n",
        "\n",
        "   #### [The GFF spec can be found here](https://www.sanger.ac.uk/resources/software/gff/spec.html)\n",
        "   #### [A great explanation on the GFF format can be found here](http://gmod.org/wiki/GFF3)"
      ],
      "id": "953242ab-aaea-4129-89c8-a78c6b3e249e"
    },
    {
      "cell_type": "code",
      "execution_count": null,
      "metadata": {
        "id": "fe9aa186-cb6c-43e6-a78e-0e5a6766dcf4"
      },
      "outputs": [],
      "source": [],
      "id": "fe9aa186-cb6c-43e6-a78e-0e5a6766dcf4"
    }
  ],
  "metadata": {
    "colab": {
      "provenance": [],
      "machine_shape": "hm",
      "include_colab_link": true
    },
    "kernelspec": {
      "display_name": "Python 3",
      "name": "python3"
    },
    "language_info": {
      "codemirror_mode": {
        "name": "ipython",
        "version": 3
      },
      "file_extension": ".py",
      "mimetype": "text/x-python",
      "name": "python",
      "nbconvert_exporter": "python",
      "pygments_lexer": "ipython3",
      "version": "3.6.8"
    }
  },
  "nbformat": 4,
  "nbformat_minor": 5
}