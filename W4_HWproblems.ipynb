{
  "cells": [
    {
      "cell_type": "markdown",
      "metadata": {
        "id": "view-in-github",
        "colab_type": "text"
      },
      "source": [
        "<a href=\"https://colab.research.google.com/github/Pinegraphite123/TRGN515/blob/main/W4_HWproblems.ipynb\" target=\"_parent\"><img src=\"https://colab.research.google.com/assets/colab-badge.svg\" alt=\"Open In Colab\"/></a>"
      ]
    },
    {
      "cell_type": "markdown",
      "id": "bc722033-ceb8-4b8c-a60c-f644e18be948",
      "metadata": {
        "id": "bc722033-ceb8-4b8c-a60c-f644e18be948"
      },
      "source": [
        "#### W4-HW13: Write sets of Python functions that will take a DNA sequence and generate 1) reverse, 2) complement, 3) reverse complement of that input sequence. Address all [corner cases](http://carpentries-incubator.github.io/python-testing/06-edges/index.html) such as degenerate bases, wrong data type for input, etc. DO NOT use Biopython. Make sure to test your functions for a DNA sequence you found and downloaded from Genbank (please do not use examples shown in the class).\n"
      ]
    },
    {
      "cell_type": "code",
      "source": [
        "sequ = 'AGAGATTACGTC-GGTTGCAAGAGATCATARYSWKMBDHVNXAAATTGATTGAAAATAAAT'\n",
        "sequence = sequ.upper()\n",
        "\n",
        "# Check for bases\n",
        "allowed_nucleotides = ['A', 'T', 'C', 'G', 'R', 'Y', 'S', 'W', 'K', 'M', 'B', 'D', 'H', 'V', 'N', 'X', '-']\n",
        "for nucleotide in sequence:\n",
        "  if nucleotide not in allowed_nucleotides:\n",
        "    raise ValueError(\"Invalid nucleotide\")\n",
        "\n",
        "# Reverse\n",
        "def reverse(seq):\n",
        "  return seq[::-1]\n",
        "\n",
        "# Complement\n",
        "def complement(seq):\n",
        "  complement_map = {\n",
        "        'A': 'T', 'T': 'A', 'C': 'G', 'G': 'C',\n",
        "        'R': 'Y', 'Y': 'R', 'S': 'S', 'W': 'W',\n",
        "        'K': 'M', 'M': 'K', 'B': 'V', 'V': 'B',\n",
        "        'D': 'H', 'H': 'D', 'N': 'N', 'X': 'X',\n",
        "        '-':'-'\n",
        "    }\n",
        "  complement_seq = ''\n",
        "  for base in seq:\n",
        "      complement_seq += complement_map[base]\n",
        "  return complement_seq\n",
        "\n",
        "# Reverse complement\n",
        "def reverse_complement(seq):\n",
        "  return reverse(complement(seq))\n",
        "\n",
        "print(f\"input: {sequence}\")\n",
        "print(f\"reverse: {reverse(sequence)}\")\n",
        "print(f\"complement: {complement(sequence)}\")\n",
        "print(f\"reverse complement: {reverse_complement(sequence)}\")"
      ],
      "metadata": {
        "colab": {
          "base_uri": "https://localhost:8080/"
        },
        "id": "0mIB8huoivVu",
        "outputId": "9fec0ca7-98b0-4017-9551-cb2ffca95411"
      },
      "id": "0mIB8huoivVu",
      "execution_count": null,
      "outputs": [
        {
          "output_type": "stream",
          "name": "stdout",
          "text": [
            "input: AGAGATTACGTC-GGTTGCAAGAGATCATARYSWKMBDHVNXAAATTGATTGAAAATAAAT\n",
            "reverse: TAAATAAAAGTTAGTTAAAXNVHDBMKWSYRATACTAGAGAACGTTGG-CTGCATTAGAGA\n",
            "complement: TCTCTAATGCAG-CCAACGTTCTCTAGTATYRSWMKVHDBNXTTTAACTAACTTTTATTTA\n",
            "reverse complement: ATTTATTTTCAATCAATTTXNBDHVKMWSRYTATGATCTCTTGCAACC-GACGTAATCTCT\n"
          ]
        }
      ]
    },
    {
      "cell_type": "markdown",
      "id": "a0281321-59aa-4616-a140-a256e451e062",
      "metadata": {
        "id": "a0281321-59aa-4616-a140-a256e451e062"
      },
      "source": [
        "#### W4-HW14: Explain how the built in reverse complement function work in Biopython. How does it handle degenerate bases?\n"
      ]
    },
    {
      "cell_type": "code",
      "source": [
        "%%bash\n",
        "pip install biopython"
      ],
      "metadata": {
        "colab": {
          "base_uri": "https://localhost:8080/"
        },
        "id": "_jFLyY45EL_4",
        "outputId": "07ad78c4-b753-4c6a-9eab-8ca3796bc955"
      },
      "id": "_jFLyY45EL_4",
      "execution_count": null,
      "outputs": [
        {
          "output_type": "stream",
          "name": "stdout",
          "text": [
            "Requirement already satisfied: biopython in /usr/local/lib/python3.10/dist-packages (1.83)\n",
            "Requirement already satisfied: numpy in /usr/local/lib/python3.10/dist-packages (from biopython) (1.23.5)\n"
          ]
        }
      ]
    },
    {
      "cell_type": "code",
      "source": [
        "from Bio.Seq import Seq\n",
        "from Bio import SeqIO\n",
        "from Bio import Entrez\n",
        "help(Seq.complement)"
      ],
      "metadata": {
        "colab": {
          "base_uri": "https://localhost:8080/"
        },
        "id": "PgLwP5M1EMq5",
        "outputId": "cc229373-e1c9-4938-9827-64410dc54a94"
      },
      "id": "PgLwP5M1EMq5",
      "execution_count": null,
      "outputs": [
        {
          "output_type": "stream",
          "name": "stdout",
          "text": [
            "Help on function complement in module Bio.Seq:\n",
            "\n",
            "complement(self, inplace=False)\n",
            "    Return the complement as a DNA sequence.\n",
            "    \n",
            "    >>> Seq(\"CGA\").complement()\n",
            "    Seq('GCT')\n",
            "    \n",
            "    Any U in the sequence is treated as a T:\n",
            "    \n",
            "    >>> Seq(\"CGAUT\").complement()\n",
            "    Seq('GCTAA')\n",
            "    \n",
            "    In contrast, ``complement_rna`` returns an RNA sequence:\n",
            "    \n",
            "    >>> Seq(\"CGAUT\").complement_rna()\n",
            "    Seq('GCUAA')\n",
            "    \n",
            "    The sequence is modified in-place and returned if inplace is True:\n",
            "    \n",
            "    >>> my_seq = MutableSeq(\"CGA\")\n",
            "    >>> my_seq\n",
            "    MutableSeq('CGA')\n",
            "    >>> my_seq.complement()\n",
            "    MutableSeq('GCT')\n",
            "    >>> my_seq\n",
            "    MutableSeq('CGA')\n",
            "    \n",
            "    >>> my_seq.complement(inplace=True)\n",
            "    MutableSeq('GCT')\n",
            "    >>> my_seq\n",
            "    MutableSeq('GCT')\n",
            "    \n",
            "    As ``Seq`` objects are immutable, a ``TypeError`` is raised if\n",
            "    ``complement_rna`` is called on a ``Seq`` object with ``inplace=True``.\n",
            "\n"
          ]
        }
      ]
    },
    {
      "cell_type": "code",
      "source": [
        "reverse_complement(sequence)"
      ],
      "metadata": {
        "colab": {
          "base_uri": "https://localhost:8080/",
          "height": 35
        },
        "id": "ZSQsTGGeI7TX",
        "outputId": "59be1e64-940a-43e1-a927-6ce0476b1844"
      },
      "id": "ZSQsTGGeI7TX",
      "execution_count": null,
      "outputs": [
        {
          "output_type": "execute_result",
          "data": {
            "text/plain": [
              "'ATTTATTTTCAATCAATTTXNBDHVKMWSRYTATGATCTCTTGCAACC-GACGTAATCTCT'"
            ],
            "application/vnd.google.colaboratory.intrinsic+json": {
              "type": "string"
            }
          },
          "metadata": {},
          "execution_count": 82
        }
      ]
    },
    {
      "cell_type": "markdown",
      "source": [
        "I think the package does exactly what I coded with the exception that turns the input string into a Seq object. It first writes the complement and then simply reverse it. It also accepts U so a little different.\n"
      ],
      "metadata": {
        "id": "N1oInhviEGxE"
      },
      "id": "N1oInhviEGxE"
    },
    {
      "cell_type": "markdown",
      "id": "5c5351f0-f6f6-4f99-a85a-705105a72ef1",
      "metadata": {
        "id": "5c5351f0-f6f6-4f99-a85a-705105a72ef1"
      },
      "source": [
        "#### W4-HW15: What does the \"format_type\" keyword in qblast function do? Explain and show with examples."
      ]
    },
    {
      "cell_type": "markdown",
      "source": [
        "qblast returns BLAST result. format_type argument specify which output format to use. It accepts keyword: \"HTML\", \"Text\", \"ASN.1\", or \"XML\".\n",
        "HTML has been discontinued.\n"
      ],
      "metadata": {
        "id": "w3K4KG_GhOHx"
      },
      "id": "w3K4KG_GhOHx"
    },
    {
      "cell_type": "code",
      "source": [
        "from Bio.Blast import NCBIWWW\n",
        "\n",
        "# output in txt, most readable\n",
        "# A short string like the following took 4 minutes to complete\n",
        "sequence_data = \"AGTCTGGGACGGCGCGG\"\n",
        "\n",
        "result = NCBIWWW.qblast(\"blastn\", \"nt\", sequence_data, format_type=\"Text\")\n",
        "blast_results = result.read()\n",
        "print(blast_results[:2000])\n",
        "result.close()\n"
      ],
      "metadata": {
        "colab": {
          "base_uri": "https://localhost:8080/"
        },
        "id": "T7tPn06jnchD",
        "outputId": "607a758f-ffaa-4d45-b9ef-2b8c62146ebb"
      },
      "id": "T7tPn06jnchD",
      "execution_count": null,
      "outputs": [
        {
          "output_type": "stream",
          "name": "stdout",
          "text": [
            "<p><!--\n",
            "QBlastInfoBegin\n",
            "\tStatus=READY\n",
            "QBlastInfoEnd\n",
            "--><p>\n",
            "<PRE>\n",
            "BLASTN 2.15.0+\n",
            "Reference: Stephen F. Altschul, Thomas L. Madden, Alejandro\n",
            "A. Schaffer, Jinghui Zhang, Zheng Zhang, Webb Miller, and\n",
            "David J. Lipman (1997), \"Gapped BLAST and PSI-BLAST: a new\n",
            "generation of protein database search programs\", Nucleic\n",
            "Acids Res. 25:3389-3402.\n",
            "\n",
            "\n",
            "RID: WG7TDYED016\n",
            "\n",
            "\n",
            "Database: Nucleotide collection (nt)\n",
            "           102,960,590 sequences; 1,528,186,360,278 total letters\n",
            "\n",
            "Query= \n",
            "Length=17\n",
            "\n",
            "\n",
            "<b>No significant similarity found.</b> For reasons why, <A HREF = \"Blast.cgi?CMD=Web&PAGE_TYPE=BlastDocs&DOC_TYPE=FAQ\"><b>click here</A>.</b><br><br>\n",
            "  Database: Nucleotide collection (nt)\n",
            "    Posted date:  Feb 1, 2024  7:59 AM\n",
            "  Number of letters in database: 1,528,186,360,278\n",
            "  Number of sequences in database:  102,960,590\n",
            "\n",
            "Lambda      K        H\n",
            "   0.634    0.408    0.912 \n",
            "Gapped\n",
            "Lambda      K        H\n",
            "   0.625    0.410    0.780 \n",
            "Matrix: blastn matrix:2 -3\n",
            "Gap Penalties: Existence: 5, Extension: 2\n",
            "Number of Sequences: 102960590\n",
            "Number of Hits to DB: 710456\n",
            "Number of extensions: 192\n",
            "Number of successful extensions: 192\n",
            "Number of sequences better than 10: 0\n",
            "Number of HSP's better than 10 without gapping: 0\n",
            "Number of HSP's gapped: 192\n",
            "Number of HSP's successfully gapped: 0\n",
            "Length of query: 17\n",
            "Length of database: 1528186360278\n",
            "Length adjustment: 14\n",
            "Effective length of query: 3\n",
            "Effective length of database: 1526744912018\n",
            "Effective search space: 4580234736054\n",
            "Effective search space used: 4580234736054\n",
            "A: 0\n",
            "X1: 22 (20.1 bits)\n",
            "X2: 33 (29.8 bits)\n",
            "X3: 110 (99.2 bits)\n",
            "S1: 28 (26.5 bits)\n",
            "S2: 42 (39.2 bits)\n",
            "\n",
            "\n",
            "\n"
          ]
        }
      ]
    },
    {
      "cell_type": "code",
      "source": [
        "from Bio.Blast import NCBIWWW\n",
        "\n",
        "sequence_data = \"AGTCTGGGACGGCGCGG\"\n",
        "\n",
        "result = NCBIWWW.qblast(\"blastn\", \"nt\", sequence_data, format_type=\"ASN.1\")\n",
        "blast_results = result.read()\n",
        "print(blast_results[:2000])\n",
        "result.close()"
      ],
      "metadata": {
        "colab": {
          "base_uri": "https://localhost:8080/"
        },
        "id": "oOqkzCGRp7ZG",
        "outputId": "d14465c2-03d5-4bd3-9e71-47d422e1bc0f"
      },
      "id": "oOqkzCGRp7ZG",
      "execution_count": null,
      "outputs": [
        {
          "output_type": "stream",
          "name": "stdout",
          "text": [
            "Seq-annot ::= {\n",
            "  desc {\n",
            "    user {\n",
            "      type str \"Hist Seqalign\",\n",
            "      data {\n",
            "        {\n",
            "          label str \"Hist Seqalign\",\n",
            "          data bool TRUE\n",
            "        }\n",
            "      }\n",
            "    },\n",
            "    user {\n",
            "      type str \"Blast Type\",\n",
            "      data {\n",
            "        {\n",
            "          label str \"blastn\",\n",
            "          data int 1\n",
            "        }\n",
            "      }\n",
            "    },\n",
            "    user {\n",
            "      type str \"Blast Database Title\",\n",
            "      data {\n",
            "        {\n",
            "          label str \"Nucleotide collection (nt)\",\n",
            "          data bool TRUE\n",
            "        }\n",
            "      }\n",
            "    }\n",
            "  },\n",
            "  data align {\n",
            "  }\n",
            "}\n",
            "\n",
            "\n",
            "\n"
          ]
        }
      ]
    },
    {
      "cell_type": "code",
      "source": [
        "from Bio.Blast import NCBIWWW\n",
        "\n",
        "sequence_data1 = \"AGTCTGGGACGGCGCGG\"\n",
        "\n",
        "result = NCBIWWW.qblast(\"blastn\", \"nt\", sequence_data1, format_type=\"XML\")\n",
        "blast_results = result.read()\n",
        "print(blast_results[:2000])\n",
        "result.close()"
      ],
      "metadata": {
        "colab": {
          "base_uri": "https://localhost:8080/"
        },
        "id": "prp8yERyp7vB",
        "outputId": "e2a61569-5dc8-4030-fdc0-6080b1742a10"
      },
      "id": "prp8yERyp7vB",
      "execution_count": null,
      "outputs": [
        {
          "output_type": "stream",
          "name": "stdout",
          "text": [
            "<?xml version=\"1.0\"?>\n",
            "<!DOCTYPE BlastOutput PUBLIC \"-//NCBI//NCBI BlastOutput/EN\" \"http://www.ncbi.nlm.nih.gov/dtd/NCBI_BlastOutput.dtd\">\n",
            "<BlastOutput>\n",
            "  <BlastOutput_program>blastn</BlastOutput_program>\n",
            "  <BlastOutput_version>BLASTN 2.15.0+</BlastOutput_version>\n",
            "  <BlastOutput_reference>Stephen F. Altschul, Thomas L. Madden, Alejandro A. Sch&amp;auml;ffer, Jinghui Zhang, Zheng Zhang, Webb Miller, and David J. Lipman (1997), &quot;Gapped BLAST and PSI-BLAST: a new generation of protein database search programs&quot;, Nucleic Acids Res. 25:3389-3402.</BlastOutput_reference>\n",
            "  <BlastOutput_db>nt</BlastOutput_db>\n",
            "  <BlastOutput_query-ID>Query_1935617</BlastOutput_query-ID>\n",
            "  <BlastOutput_query-def>No definition line</BlastOutput_query-def>\n",
            "  <BlastOutput_query-len>17</BlastOutput_query-len>\n",
            "  <BlastOutput_param>\n",
            "    <Parameters>\n",
            "      <Parameters_expect>10</Parameters_expect>\n",
            "      <Parameters_sc-match>2</Parameters_sc-match>\n",
            "      <Parameters_sc-mismatch>-3</Parameters_sc-mismatch>\n",
            "      <Parameters_gap-open>5</Parameters_gap-open>\n",
            "      <Parameters_gap-extend>2</Parameters_gap-extend>\n",
            "      <Parameters_filter>L;m;</Parameters_filter>\n",
            "    </Parameters>\n",
            "  </BlastOutput_param>\n",
            "<BlastOutput_iterations>\n",
            "<Iteration>\n",
            "  <Iteration_iter-num>1</Iteration_iter-num>\n",
            "  <Iteration_query-ID>Query_1935617</Iteration_query-ID>\n",
            "  <Iteration_query-def>No definition line</Iteration_query-def>\n",
            "  <Iteration_query-len>17</Iteration_query-len>\n",
            "<Iteration_hits>\n",
            "</Iteration_hits>\n",
            "  <Iteration_stat>\n",
            "    <Statistics>\n",
            "      <Statistics_db-num>102960590</Statistics_db-num>\n",
            "      <Statistics_db-len>1528186360278</Statistics_db-len>\n",
            "      <Statistics_hsp-len>0</Statistics_hsp-len>\n",
            "      <Statistics_eff-space>0</Statistics_eff-space>\n",
            "      <Statistics_kappa>0.41</Statistics_kappa>\n",
            "      <Statistics_lambda>0.625</Statistics_lambda>\n",
            "      <Statistics_entropy>0.78</Statistics_entropy>\n",
            "    </Statistics>\n",
            "  </Iteration_stat>\n",
            "</Iteration>\n",
            "</BlastOutput_iterations>\n",
            "</BlastOutput>\n",
            "\n"
          ]
        }
      ]
    },
    {
      "cell_type": "markdown",
      "id": "dbb47312-902b-4295-af2f-110086714782",
      "metadata": {
        "id": "dbb47312-902b-4295-af2f-110086714782"
      },
      "source": [
        "#### W4-HW16: Can you fix the following code, so that it can extract and return two random sequences from the given fasta file?\n",
        "\n",
        "    # let's get some random sequences from our large fasta file: without using Biopython (you can use other modules)\n",
        "\n",
        "    import random\n",
        "\n",
        "    with open('../datasets/ls_orchid.fasta') as f:\n",
        "        data = f.read().splitlines()\n",
        "        print(data)\n",
        "        for i in random.sample(range(0, len(data), 2), 2):\n",
        "            print(data[i])\n",
        "            print(data[i+1])"
      ]
    },
    {
      "cell_type": "code",
      "source": [
        "# Copied from chatgpt\n",
        "\n",
        "import random\n",
        "\n",
        "def parse_fasta(filepath):\n",
        "    sequences = {}\n",
        "    current_header = None\n",
        "\n",
        "    with open(filepath, 'r') as file:\n",
        "        for line in file:\n",
        "            line = line.strip()\n",
        "            if line.startswith('>'):\n",
        "                current_header = line\n",
        "                sequences[current_header] = []\n",
        "            else:\n",
        "                sequences[current_header].append(line)\n",
        "\n",
        "    # Concatenate lines of each sequence\n",
        "    for header, seq_lines in sequences.items():\n",
        "        sequences[header] = ''.join(seq_lines)\n",
        "\n",
        "    return sequences\n",
        "\n",
        "def select_random_sequences(sequences, num=2):\n",
        "  selected_entries = random.sample(list(sequences.items()), num)\n",
        "  return selected_entries\n",
        "\n",
        "sequences = parse_fasta('/content/ls_orchid.fasta')\n",
        "\n",
        "# Print the selected random sequences\n",
        "for header, sequence in select_random_sequences(sequences, 2):\n",
        "    print(header)\n",
        "    print(sequence[:60] + '...')\n",
        "    print()"
      ],
      "metadata": {
        "colab": {
          "base_uri": "https://localhost:8080/"
        },
        "id": "0_nB3Fhw5fKY",
        "outputId": "dd53f36c-2801-4943-f71a-9840786d2388"
      },
      "id": "0_nB3Fhw5fKY",
      "execution_count": 52,
      "outputs": [
        {
          "output_type": "stream",
          "name": "stdout",
          "text": [
            ">gi|2765640|emb|Z78515.1|MXZ78515 M.xerophyticum 5.8S rRNA gene and ITS1 and ITS2 DNA\n",
            "CGTAACAAGGTTTCCGTAGGTGAACCTGCGGAAGGATCATTGCTGAGACCGTAGAATAAA...\n",
            "\n",
            ">gi|2765574|emb|Z78449.1|PMZ78449 P.mastersianum 5.8S rRNA gene and ITS1 and ITS2 DNA\n",
            "CGTAACAAGGTTTCCGTAGGTGAACCTGCGGAAGGATCATTGTTGAGATCACATAATAAT...\n",
            "\n"
          ]
        }
      ]
    }
  ],
  "metadata": {
    "kernelspec": {
      "display_name": "Python 3",
      "language": "python",
      "name": "python3"
    },
    "language_info": {
      "codemirror_mode": {
        "name": "ipython",
        "version": 3
      },
      "file_extension": ".py",
      "mimetype": "text/x-python",
      "name": "python",
      "nbconvert_exporter": "python",
      "pygments_lexer": "ipython3",
      "version": "3.6.8"
    },
    "colab": {
      "provenance": [],
      "include_colab_link": true
    }
  },
  "nbformat": 4,
  "nbformat_minor": 5
}