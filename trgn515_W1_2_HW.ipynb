{
  "nbformat": 4,
  "nbformat_minor": 0,
  "metadata": {
    "colab": {
      "provenance": [],
      "authorship_tag": "ABX9TyOkV15qo+lmTM16Gps4n49a",
      "include_colab_link": true
    },
    "kernelspec": {
      "name": "python3",
      "display_name": "Python 3"
    },
    "language_info": {
      "name": "python"
    }
  },
  "cells": [
    {
      "cell_type": "markdown",
      "metadata": {
        "id": "view-in-github",
        "colab_type": "text"
      },
      "source": [
        "<a href=\"https://colab.research.google.com/github/Pinegraphite123/TRGN515/blob/main/trgn515_W1_2_HW.ipynb\" target=\"_parent\"><img src=\"https://colab.research.google.com/assets/colab-badge.svg\" alt=\"Open In Colab\"/></a>"
      ]
    },
    {
      "cell_type": "markdown",
      "source": [
        "upload to github:\n",
        "\n",
        "create a ssh key in trgn server\n",
        "\n",
        "copy the key into github account\n",
        "\n",
        "git init\n",
        "\n",
        "git add file_name # choose the file or directory to add to git\n",
        "\n",
        "git commit -m \"message\" # commit changes in git with a message\n",
        "\n",
        "git remote add origin link_to_repo  # set destination\n",
        "\n",
        "git remote -v\n",
        "\n",
        "git push -u\n",
        "\n",
        "git branch -M origin # change the name from master to origin, to match the branch name in repo\n",
        "\n",
        "git push -u origin main # add the file in git to the repo branch\n"
      ],
      "metadata": {
        "id": "d9VZ5dRyDC74"
      }
    },
    {
      "cell_type": "code",
      "source": [],
      "metadata": {
        "id": "cKZWUa1uDAjK"
      },
      "execution_count": null,
      "outputs": []
    },
    {
      "cell_type": "code",
      "execution_count": null,
      "metadata": {
        "colab": {
          "base_uri": "https://localhost:8080/"
        },
        "id": "ZGAGsUi1K7xd",
        "outputId": "be54357a-997a-434c-a120-dfcf4902478f"
      },
      "outputs": [
        {
          "output_type": "stream",
          "name": "stdout",
          "text": [
            "one\n",
            "['two', 'three']\n"
          ]
        }
      ],
      "source": [
        "# W1-HW1\n",
        "\n",
        "W1_list = [\"one\", \"two\", \"three\"]\n",
        "W1_list_remove = list(W1_list)\n",
        "print(W1_list.pop(0))\n",
        "W1_list_remove.remove(\"one\")\n",
        "print(W1_list_remove)"
      ]
    },
    {
      "cell_type": "code",
      "source": [
        "# HW2\n",
        "\n",
        "main_list = [1, 2, 3]\n",
        "main_list_copy = main_list.copy()\n",
        "print(main_list_copy)\n"
      ],
      "metadata": {
        "colab": {
          "base_uri": "https://localhost:8080/"
        },
        "id": "X4KszuCtLA3D",
        "outputId": "3fbeeb98-f14a-4700-eefb-5aa400b228c0"
      },
      "execution_count": null,
      "outputs": [
        {
          "output_type": "stream",
          "name": "stdout",
          "text": [
            "[1, 2, 3]\n"
          ]
        }
      ]
    },
    {
      "cell_type": "code",
      "source": [
        "# HW3\n",
        "\n",
        "dictt = {\"one\": 3, \"two\": 2, \"three\": 1}\n",
        "dictc = {\"one\":\"blue\", \"two\":\"red\", \"three\":\"green\"}\n",
        "\n",
        "\n",
        "# clear method\n",
        "dict_copy = dictt.copy()\n",
        "print(\"Clear method: {}\".format(dict_copy.clear()))\n",
        "\n",
        "# fromkeyk method\n",
        "# print(dict.fromkeys(1,2)) # this will give TypeError'int' object is not iterable. Because fromkey accept (x,y) in which y is passed onto x as value, x should be an iterable which is string, tuple, dict, or list\n",
        "x = [\"one\", \"two\", \"three\"]\n",
        "print(\"fromkeys method: {}\".format(dict.fromkeys(x, 1)))\n",
        "\n",
        "# get method\n",
        "print(\"get method: {}\".format(dictc.get(\"green\"))) # doesnt return error, returns none. The argument, key should be found in the corresponding dictionary\n",
        "\n",
        "# items method\n",
        "print(\"items method: {}\".format(dictt.items()))\n",
        "\n",
        "# update method\n",
        "#dictt.update({four: 4}) # returns NameError, needs to remember to \"\". It means four as an iterable without \"\"\n",
        "dictt.update({\"four\": 4})\n",
        "print(\"update method: {}\".format(dictt))\n",
        "\n",
        "\n",
        "\n",
        "\n"
      ],
      "metadata": {
        "colab": {
          "base_uri": "https://localhost:8080/"
        },
        "id": "esYTOrZCLAw4",
        "outputId": "09d6b177-5e08-456e-f452-55da01ca001c"
      },
      "execution_count": null,
      "outputs": [
        {
          "output_type": "stream",
          "name": "stdout",
          "text": [
            "Clear method: None\n",
            "fromkeys method: {'one': 1, 'two': 1, 'three': 1}\n",
            "get method: None\n",
            "items method: dict_items([('one', 3), ('two', 2), ('three', 1)])\n",
            "update method: {'one': 3, 'two': 2, 'three': 1, 'four': 4}\n"
          ]
        }
      ]
    },
    {
      "cell_type": "code",
      "source": [
        "# HW4\n",
        "\n",
        "recipe_dict = {}\n",
        "recipe_dict['ratatouille '] = ['eggplant', 'tomato', 'zucchini', 'onion', 'olive oil', 'garlic']\n",
        "recipe_dict['homemade pasta'] = ['semolina flour', 'olive oil', 'sea salt']\n",
        "for key in recipe_dict.keys():\n",
        "    print(key)\n",
        "for value in recipe_dict.values():\n",
        "    print(value)"
      ],
      "metadata": {
        "colab": {
          "base_uri": "https://localhost:8080/"
        },
        "id": "3O9j53juoyNF",
        "outputId": "defd5fbc-6c5f-4813-e3b0-5a9e784da382"
      },
      "execution_count": null,
      "outputs": [
        {
          "output_type": "stream",
          "name": "stdout",
          "text": [
            "ratatouille \n",
            "homemade pasta\n",
            "['eggplant', 'tomato', 'zucchini', 'onion', 'olive oil', 'garlic']\n",
            "['semolina flour', 'olive oil', 'sea salt']\n"
          ]
        }
      ]
    },
    {
      "cell_type": "code",
      "source": [
        "# HW5\n",
        "\n",
        "my_numbers = [1,3,5,7,9,12,19,21]\n",
        "for i in my_numbers:\n",
        "  if i % 2 != 0:\n",
        "    print(i**2)\n"
      ],
      "metadata": {
        "colab": {
          "base_uri": "https://localhost:8080/"
        },
        "id": "OAP2gl2Q9Xau",
        "outputId": "811db3c2-f241-4bc4-fe5c-fa617bc2b49c"
      },
      "execution_count": null,
      "outputs": [
        {
          "output_type": "stream",
          "name": "stdout",
          "text": [
            "1\n",
            "9\n",
            "25\n",
            "49\n",
            "81\n",
            "361\n",
            "441\n"
          ]
        }
      ]
    },
    {
      "cell_type": "code",
      "source": [
        "# HW6\n",
        "bases = \"ATCG\"\n",
        "dinucleotides = [a+b for a in bases for b in bases]\n",
        "\n",
        "seq = 'ACTGCTATCCATT'\n",
        "\n",
        "for dinucleotide in dinucleotides:\n",
        "  print(dinucleotide, seq.count(dinucleotide))\n"
      ],
      "metadata": {
        "colab": {
          "base_uri": "https://localhost:8080/"
        },
        "id": "4mFCCiK5LhL8",
        "outputId": "8f2d5272-132f-4246-90e7-2367d1025fbe"
      },
      "execution_count": null,
      "outputs": [
        {
          "output_type": "stream",
          "name": "stdout",
          "text": [
            "AA 0\n",
            "AT 2\n",
            "AC 1\n",
            "AG 0\n",
            "TA 1\n",
            "TT 1\n",
            "TC 1\n",
            "TG 1\n",
            "CA 1\n",
            "CT 2\n",
            "CC 1\n",
            "CG 0\n",
            "GA 0\n",
            "GT 0\n",
            "GC 1\n",
            "GG 0\n"
          ]
        }
      ]
    },
    {
      "cell_type": "code",
      "source": [
        "# HW7\n",
        "\n",
        "dict_aa = {'ATA':'I', 'ATC':'I', 'ATT':'I', 'ATG':'M',\n",
        "    'ACA':'T', 'ACC':'T', 'ACG':'T', 'ACT':'T',\n",
        "    'AAC':'N', 'AAT':'N', 'AAA':'K', 'AAG':'K',\n",
        "    'AGC':'S', 'AGT':'S', 'AGA':'R', 'AGG':'R',\n",
        "    'CTA':'L', 'CTC':'L', 'CTG':'L', 'CTT':'L',\n",
        "    'CCA':'P', 'CCC':'P', 'CCG':'P', 'CCT':'P',\n",
        "    'CAC':'H', 'CAT':'H', 'CAA':'Q', 'CAG':'Q',\n",
        "    'CGA':'R', 'CGC':'R', 'CGG':'R', 'CGT':'R',\n",
        "    'GTA':'V', 'GTC':'V', 'GTG':'V', 'GTT':'V',\n",
        "    'GCA':'A', 'GCC':'A', 'GCG':'A', 'GCT':'A',\n",
        "    'GAC':'D', 'GAT':'D', 'GAA':'E', 'GAG':'E',\n",
        "    'GGA':'G', 'GGC':'G', 'GGG':'G', 'GGT':'G',\n",
        "    'TCA':'S', 'TCC':'S', 'TCG':'S', 'TCT':'S',\n",
        "    'TTC':'F', 'TTT':'F', 'TTA':'L', 'TTG':'L',\n",
        "    'TAC':'Y', 'TAT':'Y', 'TAA':'_', 'TAG':'_',\n",
        "    'TGC':'C', 'TGT':'C', 'TGA':'_', 'TGG':'W'}\n",
        "\n",
        "def codon_to_aa(codon):\n",
        "    if codon in dict_aa:\n",
        "        return dict_aa[codon]\n",
        "    else:\n",
        "        return 'X'\n",
        "\n",
        "codon_to_aa(\"AAC\")"
      ],
      "metadata": {
        "colab": {
          "base_uri": "https://localhost:8080/",
          "height": 35
        },
        "id": "bMeusv0gLhXs",
        "outputId": "f9035141-be09-427f-ba5a-dbc46819502d"
      },
      "execution_count": null,
      "outputs": [
        {
          "output_type": "execute_result",
          "data": {
            "text/plain": [
              "'N'"
            ],
            "application/vnd.google.colaboratory.intrinsic+json": {
              "type": "string"
            }
          },
          "metadata": {},
          "execution_count": 11
        }
      ]
    },
    {
      "cell_type": "code",
      "source": [
        "# HW8\n",
        "\n",
        "def get_windows(seq, window_size, step_size):\n",
        "    windows = []\n",
        "    for i in range(0, len(seq), step_size+window_size):\n",
        "        window = seq[i:i+window_size]\n",
        "        if len(window) == window_size:\n",
        "            windows.append(window)\n",
        "    print(windows)\n",
        "\n",
        "\n",
        "get_windows('AAACTGTCTCTA', 3, 2)\n",
        "get_windows('AC', 4, 2)\n",
        "get_windows('TCTCTATCGGACG', 2, 3)"
      ],
      "metadata": {
        "id": "JmGCMDooLhlj",
        "colab": {
          "base_uri": "https://localhost:8080/"
        },
        "outputId": "668c0ddc-6580-47c5-94a9-babdfb56b37c"
      },
      "execution_count": null,
      "outputs": [
        {
          "output_type": "stream",
          "name": "stdout",
          "text": [
            "['AAA', 'GTC']\n",
            "[]\n",
            "['TC', 'AT', 'AC']\n"
          ]
        }
      ]
    }
  ]
}